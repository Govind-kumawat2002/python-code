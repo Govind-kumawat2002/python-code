{
 "cells": [
  {
   "cell_type": "code",
   "execution_count": 1,
   "metadata": {},
   "outputs": [
    {
     "name": "stdout",
     "output_type": "stream",
     "text": [
      "{'brand': 'Ford', 'model': 'Mustang', 'year': 1964}\n"
     ]
    }
   ],
   "source": [
    "x = {\n",
    "  \"brand\": \"Ford\",\n",
    "  \"model\": \"Mustang\",\n",
    "  \"year\": 1964\n",
    "}\n",
    "print(x)"
   ]
  },
  {
   "cell_type": "code",
   "execution_count": 2,
   "metadata": {},
   "outputs": [
    {
     "name": "stdout",
     "output_type": "stream",
     "text": [
      "Ford\n"
     ]
    }
   ],
   "source": [
    "x = {\n",
    "  \"brand\": \"Ford\",\n",
    "  \"model\": \"Mustang\",\n",
    "  \"year\": 1964\n",
    "}\n",
    "print(x[\"brand\"]) # each key print "
   ]
  },
  {
   "cell_type": "code",
   "execution_count": 3,
   "metadata": {},
   "outputs": [
    {
     "name": "stdout",
     "output_type": "stream",
     "text": [
      "{'brand': 'Mustang', 'year': 1964}\n"
     ]
    }
   ],
   "source": [
    "x = {\n",
    "  \"brand\": \"Ford\",\n",
    "  \"brand\": \"Mustang\",\n",
    "  \"year\": 1964\n",
    "}\n",
    "print(x) # dublicate ko alllow nhi krta  "
   ]
  },
  {
   "cell_type": "code",
   "execution_count": 6,
   "metadata": {},
   "outputs": [
    {
     "name": "stdout",
     "output_type": "stream",
     "text": [
      "{'brand': ['Ford', 'Ford4', 'Ford2'], 'model': 'Mustang', 'year': 1964}\n"
     ]
    }
   ],
   "source": [
    "x = {\n",
    "  \"brand\": [\"Ford\",\"Ford4\",\"Ford2\"], # list in dict\n",
    "  \"model\": \"Mustang\",\n",
    "  \"year\": 1964\n",
    "}\n",
    "print(x)"
   ]
  },
  {
   "cell_type": "code",
   "execution_count": 7,
   "metadata": {},
   "outputs": [
    {
     "name": "stdout",
     "output_type": "stream",
     "text": [
      "['Ford', 'Ford4', 'Ford2']\n"
     ]
    }
   ],
   "source": [
    "x = {\n",
    "  \"brand\": [\"Ford\",\"Ford4\",\"Ford2\"], # list in dict\n",
    "  \"model\": \"Mustang\",\n",
    "  \"year\": 1964\n",
    "}\n",
    "print(x.get(\"brand\"))"
   ]
  },
  {
   "cell_type": "code",
   "execution_count": 10,
   "metadata": {},
   "outputs": [
    {
     "name": "stdout",
     "output_type": "stream",
     "text": [
      "dict_keys(['brand', 'model', 'year'])\n"
     ]
    }
   ],
   "source": [
    "x = {\n",
    "  \"brand\": [\"Ford\",\"Ford4\",\"Ford2\"], # key print \n",
    "  \"model\": \"Mustang\",\n",
    "  \"year\": 1964\n",
    "}\n",
    "print(x.keys()) "
   ]
  },
  {
   "cell_type": "code",
   "execution_count": 12,
   "metadata": {},
   "outputs": [
    {
     "name": "stdout",
     "output_type": "stream",
     "text": [
      "{'brand': ['Ford', 'Ford4', 'Ford2'], 'model': 'Mustang', 'year': 1964, 'ke': 44, 'kes': 44}\n"
     ]
    }
   ],
   "source": [
    "x = {\n",
    "  \"brand\": [\"Ford\",\"Ford4\",\"Ford2\"], # add dict \n",
    "  \"model\": \"Mustang\",\n",
    "  \"year\": 1964\n",
    "}\n",
    "x[\"ke\"] = 44\n",
    "x[\"kes\"] = 44\n",
    "x[\"kes\"] = 44\n",
    "\n",
    "print(x)"
   ]
  },
  {
   "cell_type": "code",
   "execution_count": 14,
   "metadata": {},
   "outputs": [
    {
     "name": "stdout",
     "output_type": "stream",
     "text": [
      "dict_values([['Ford', 'Ford4', 'Ford2'], 'Mustang', 1964])\n"
     ]
    }
   ],
   "source": [
    "x = {\n",
    "  \"brand\": [\"Ford\",\"Ford4\",\"Ford2\"], # key print \n",
    "  \"model\": \"Mustang\",\n",
    "  \"year\": 1964\n",
    "}\n",
    "print(x.values()) "
   ]
  },
  {
   "cell_type": "code",
   "execution_count": 17,
   "metadata": {},
   "outputs": [
    {
     "name": "stdout",
     "output_type": "stream",
     "text": [
      "{'brand': 'ram', 'model': 'Mustang', 'year': 1964}\n"
     ]
    }
   ],
   "source": [
    "x = {\n",
    "  \"brand\": [\"Ford\",\"Ford4\",\"Ford2\"], # item change\n",
    "  \"model\": \"Mustang\",\n",
    "  \"year\": 1964\n",
    "}\n",
    "x[\"brand\"]=\"ram\"\n",
    "print(x)"
   ]
  },
  {
   "cell_type": "code",
   "execution_count": null,
   "metadata": {},
   "outputs": [],
   "source": [
    "x = {\n",
    "  \"brand\": [\"Ford\",\"Ford4\",\"Ford2\"], # item change\n",
    "  \"model\": \"Mustang\",\n",
    "  \"year\": 1964\n",
    "}\n",
    "x[\"brand\"]=\"ram\"\n",
    "print(x)"
   ]
  }
 ],
 "metadata": {
  "kernelspec": {
   "display_name": "Python 3",
   "language": "python",
   "name": "python3"
  },
  "language_info": {
   "codemirror_mode": {
    "name": "ipython",
    "version": 3
   },
   "file_extension": ".py",
   "mimetype": "text/x-python",
   "name": "python",
   "nbconvert_exporter": "python",
   "pygments_lexer": "ipython3",
   "version": "3.12.2"
  }
 },
 "nbformat": 4,
 "nbformat_minor": 2
}
