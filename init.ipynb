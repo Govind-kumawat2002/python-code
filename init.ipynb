{
 "cells": [
  {
   "cell_type": "code",
   "execution_count": 1,
   "metadata": {},
   "outputs": [],
   "source": [
    "# init.py\n",
    "\n",
    "from flask import Flask\n",
    "from flask_sqlalchemy import SQLAlchemy\n",
    "from flask_login import LoginManager \n",
    "\n",
    "# init SQLAlchemy so we can use it later in our models\n",
    "db = SQLAlchemy()\n",
    "\n",
    "def create_app():\n",
    "    app = Flask(__name__)\n",
    "\n",
    "    app.config['SECRET_KEY'] = '9OLWxND4o83j4K4iuopO'\n",
    "    app.config['SQLALCHEMY_DATABASE_URI'] = 'sqlite:///db.sqlite'\n",
    "\n",
    "    db.init_app(app)\n",
    "\n",
    "    login_manager = LoginManager()\n",
    "    login_manager.login_view = 'auth.login'\n",
    "    login_manager.init_app(app)\n",
    "\n",
    "    from .models import User\n",
    "\n",
    "    @login_manager.user_loader\n",
    "    def load_user(user_id):\n",
    "        # since the user_id is just the primary key of our user table, use it in the query for the user\n",
    "        return User.query.get(int(user_id))\n",
    "\n",
    "    # blueprint for auth routes in our app\n",
    "    from .auth import auth as auth_blueprint\n",
    "    app.register_blueprint(auth_blueprint)\n",
    "\n",
    "    # blueprint for non-auth parts of app\n",
    "    from .main import main as main_blueprint\n",
    "    app.register_blueprint(main_blueprint)\n",
    "\n",
    "    return app"
   ]
  },
  {
   "cell_type": "code",
   "execution_count": null,
   "metadata": {},
   "outputs": [],
   "source": []
  }
 ],
 "metadata": {
  "kernelspec": {
   "display_name": "Python 3",
   "language": "python",
   "name": "python3"
  },
  "language_info": {
   "codemirror_mode": {
    "name": "ipython",
    "version": 3
   },
   "file_extension": ".py",
   "mimetype": "text/x-python",
   "name": "python",
   "nbconvert_exporter": "python",
   "pygments_lexer": "ipython3",
   "version": "3.12.2"
  }
 },
 "nbformat": 4,
 "nbformat_minor": 2
}
