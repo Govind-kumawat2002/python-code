{
 "cells": [
  {
   "cell_type": "markdown",
   "metadata": {},
   "source": [
    "# Set\n",
    "set is unordered and unchangeble\n",
    "set not allow dublicates values "
   ]
  },
  {
   "cell_type": "code",
   "execution_count": 1,
   "metadata": {},
   "outputs": [
    {
     "name": "stdout",
     "output_type": "stream",
     "text": [
      "{'apple', 'hello'}\n"
     ]
    }
   ],
   "source": [
    "x = {\"apple\",\"hello\",\"apple\"}\n",
    "print(x)"
   ]
  },
  {
   "cell_type": "code",
   "execution_count": 7,
   "metadata": {},
   "outputs": [
    {
     "name": "stdout",
     "output_type": "stream",
     "text": [
      "{1, 'apple', 'True'}\n"
     ]
    }
   ],
   "source": [
    "x = {True,1,\"apple\"} # true = 1 return\n",
    "print(x)"
   ]
  },
  {
   "cell_type": "code",
   "execution_count": 8,
   "metadata": {},
   "outputs": [
    {
     "name": "stdout",
     "output_type": "stream",
     "text": [
      "{'hello', 'hiii'}\n"
     ]
    }
   ],
   "source": [
    "# set contructor\n",
    "x = set((\"hello\",\"hiii\")) \n",
    "print(x)"
   ]
  },
  {
   "cell_type": "code",
   "execution_count": 11,
   "metadata": {},
   "outputs": [
    {
     "name": "stdout",
     "output_type": "stream",
     "text": [
      "apple\n",
      "hello\n"
     ]
    }
   ],
   "source": [
    "x = {\"apple\",\"hello\",\"apple\"}\n",
    "for y in x:\n",
    "   print(y)"
   ]
  },
  {
   "cell_type": "code",
   "execution_count": 12,
   "metadata": {},
   "outputs": [
    {
     "name": "stdout",
     "output_type": "stream",
     "text": [
      "{'apple', 'hello', 'byy'}\n"
     ]
    }
   ],
   "source": [
    "x = {\"apple\",\"hello\",\"apple\"}  #item add\n",
    "x.add(\"byy\")\n",
    "print(x)"
   ]
  },
  {
   "cell_type": "code",
   "execution_count": 16,
   "metadata": {},
   "outputs": [
    {
     "name": "stdout",
     "output_type": "stream",
     "text": [
      "{'applxe', 'apple', 'hello', 'hellox', 'apples'}\n"
     ]
    }
   ],
   "source": [
    "x = {\"apple\",\"hello\",\"apple\"}\n",
    "x1 = {\"apples\",\"hellox\",\"applxe\"}\n",
    "x1.update(x)\n",
    "print(x1)"
   ]
  },
  {
   "cell_type": "code",
   "execution_count": 18,
   "metadata": {},
   "outputs": [
    {
     "name": "stdout",
     "output_type": "stream",
     "text": [
      "{'bs bdiya', 'apple', 'hello', 'byyy'}\n"
     ]
    }
   ],
   "source": [
    "x = {\"apple\",\"hello\",\"apple\"}\n",
    "y = [\"byyy\",\"bs bdiya\"]\n",
    "x.update(y)\n",
    "print(x)"
   ]
  },
  {
   "cell_type": "code",
   "execution_count": 20,
   "metadata": {},
   "outputs": [
    {
     "name": "stdout",
     "output_type": "stream",
     "text": [
      "{'apple', 'hello'}\n"
     ]
    }
   ],
   "source": [
    "x = {\"apple\",\"hello\",\"apple\"}\n",
    "x.pop\n",
    "print(x)"
   ]
  },
  {
   "cell_type": "code",
   "execution_count": 21,
   "metadata": {},
   "outputs": [
    {
     "name": "stdout",
     "output_type": "stream",
     "text": [
      "{'apple', 'hello'}\n"
     ]
    }
   ],
   "source": [
    "x = {\"apple\",\"hello\",\"apple\"}\n",
    "x.remove\n",
    "print(x)"
   ]
  },
  {
   "cell_type": "code",
   "execution_count": 22,
   "metadata": {},
   "outputs": [
    {
     "ename": "SyntaxError",
     "evalue": "invalid syntax (1311646088.py, line 2)",
     "output_type": "error",
     "traceback": [
      "\u001b[1;36m  Cell \u001b[1;32mIn[22], line 2\u001b[1;36m\u001b[0m\n\u001b[1;33m    x.del\u001b[0m\n\u001b[1;37m      ^\u001b[0m\n\u001b[1;31mSyntaxError\u001b[0m\u001b[1;31m:\u001b[0m invalid syntax\n"
     ]
    }
   ],
   "source": [
    "x = {\"apple\",\"hello\",\"apple\"}\n",
    "x.del\n",
    "print(x)"
   ]
  },
  {
   "cell_type": "code",
   "execution_count": null,
   "metadata": {},
   "outputs": [],
   "source": []
  }
 ],
 "metadata": {
  "kernelspec": {
   "display_name": "Python 3",
   "language": "python",
   "name": "python3"
  },
  "language_info": {
   "codemirror_mode": {
    "name": "ipython",
    "version": 3
   },
   "file_extension": ".py",
   "mimetype": "text/x-python",
   "name": "python",
   "nbconvert_exporter": "python",
   "pygments_lexer": "ipython3",
   "version": "3.12.2"
  }
 },
 "nbformat": 4,
 "nbformat_minor": 2
}
