{
 "cells": [
  {
   "cell_type": "markdown",
   "metadata": {},
   "source": [
    "# Set\n",
    "set is unordered and unchangeble\n",
    "set not allow dublicates values "
   ]
  },
  {
   "cell_type": "code",
   "execution_count": 2,
   "metadata": {},
   "outputs": [
    {
     "name": "stdout",
     "output_type": "stream",
     "text": [
      "{'apple', 'hello'}\n"
     ]
    }
   ],
   "source": [
    "x = {\"apple\",\"hello\",\"apple\"}\n",
    "print(x)"
   ]
  },
  {
   "cell_type": "code",
   "execution_count": 3,
   "metadata": {},
   "outputs": [
    {
     "name": "stdout",
     "output_type": "stream",
     "text": [
      "{'apple', True}\n"
     ]
    }
   ],
   "source": [
    "x = {True,1,\"apple\"} # true = 1 return\n",
    "print(x)"
   ]
  },
  {
   "cell_type": "code",
   "execution_count": 4,
   "metadata": {},
   "outputs": [
    {
     "name": "stdout",
     "output_type": "stream",
     "text": [
      "{'hiii', 'hello'}\n"
     ]
    }
   ],
   "source": [
    "# set contructor\n",
    "x = set((\"hello\",\"hiii\")) \n",
    "print(x)"
   ]
  },
  {
   "cell_type": "code",
   "execution_count": 5,
   "metadata": {},
   "outputs": [
    {
     "name": "stdout",
     "output_type": "stream",
     "text": [
      "apple\n",
      "hello\n"
     ]
    }
   ],
   "source": [
    "x = {\"apple\",\"hello\",\"apple\"}\n",
    "for y in x:\n",
    "   print(y)"
   ]
  },
  {
   "cell_type": "code",
   "execution_count": 6,
   "metadata": {},
   "outputs": [
    {
     "name": "stdout",
     "output_type": "stream",
     "text": [
      "{'apple', 'hello', 'byy'}\n"
     ]
    }
   ],
   "source": [
    "x = {\"apple\",\"hello\",\"apple\"}  #item add\n",
    "x.add(\"byy\")\n",
    "print(x)"
   ]
  },
  {
   "cell_type": "code",
   "execution_count": 7,
   "metadata": {},
   "outputs": [
    {
     "name": "stdout",
     "output_type": "stream",
     "text": [
      "{'apple', 'applxe', 'hello', 'apples', 'hellox'}\n"
     ]
    }
   ],
   "source": [
    "x = {\"apple\",\"hello\",\"apple\"}\n",
    "x1 = {\"apples\",\"hellox\",\"applxe\"}\n",
    "x1.update(x)\n",
    "print(x1)"
   ]
  },
  {
   "cell_type": "code",
   "execution_count": 8,
   "metadata": {},
   "outputs": [
    {
     "name": "stdout",
     "output_type": "stream",
     "text": [
      "{'apple', 'bs bdiya', 'hello', 'byyy'}\n"
     ]
    }
   ],
   "source": [
    "x = {\"apple\",\"hello\",\"apple\"}\n",
    "y = [\"byyy\",\"bs bdiya\"]\n",
    "x.update(y)\n",
    "print(x)"
   ]
  },
  {
   "cell_type": "code",
   "execution_count": 9,
   "metadata": {},
   "outputs": [
    {
     "name": "stdout",
     "output_type": "stream",
     "text": [
      "{'apple', 'hello'}\n"
     ]
    }
   ],
   "source": [
    "x = {\"apple\",\"hello\",\"apple\"}\n",
    "x.pop\n",
    "print(x)"
   ]
  },
  {
   "cell_type": "code",
   "execution_count": 10,
   "metadata": {},
   "outputs": [
    {
     "name": "stdout",
     "output_type": "stream",
     "text": [
      "{'apple', 'hello'}\n"
     ]
    }
   ],
   "source": [
    "x = {\"apple\",\"hello\",\"apple\"}\n",
    "x.remove\n",
    "print(x)"
   ]
  },
  {
   "cell_type": "code",
   "execution_count": 11,
   "metadata": {},
   "outputs": [
    {
     "ename": "SyntaxError",
     "evalue": "invalid syntax (1311646088.py, line 2)",
     "output_type": "error",
     "traceback": [
      "\u001b[1;36m  Cell \u001b[1;32mIn[11], line 2\u001b[1;36m\u001b[0m\n\u001b[1;33m    x.del\u001b[0m\n\u001b[1;37m      ^\u001b[0m\n\u001b[1;31mSyntaxError\u001b[0m\u001b[1;31m:\u001b[0m invalid syntax\n"
     ]
    }
   ],
   "source": [
    "x = {\"apple\",\"hello\",\"apple\"}\n",
    "x.del\n",
    "print(x)"
   ]
  },
  {
   "cell_type": "code",
   "execution_count": null,
   "metadata": {},
   "outputs": [],
   "source": []
  }
 ],
 "metadata": {
  "kernelspec": {
   "display_name": "Python 3",
   "language": "python",
   "name": "python3"
  },
  "language_info": {
   "codemirror_mode": {
    "name": "ipython",
    "version": 3
   },
   "file_extension": ".py",
   "mimetype": "text/x-python",
   "name": "python",
   "nbconvert_exporter": "python",
   "pygments_lexer": "ipython3",
   "version": "3.11.3"
  }
 },
 "nbformat": 4,
 "nbformat_minor": 2
}
