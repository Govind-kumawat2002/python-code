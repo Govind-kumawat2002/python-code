{
 "cells": [
  {
   "cell_type": "code",
   "execution_count": 5,
   "metadata": {},
   "outputs": [
    {
     "name": "stdout",
     "output_type": "stream",
     "text": [
      "{'baby', 'babu', 'hello', 'ha'}\n"
     ]
    }
   ],
   "source": [
    "# union : combination\n",
    "x ={\"hello\",\"baby\"}\n",
    "y = {\"ha\",\"babu\"}\n",
    "xx= x.union(y)\n",
    "print(xx) \n"
   ]
  },
  {
   "cell_type": "code",
   "execution_count": 6,
   "metadata": {},
   "outputs": [
    {
     "name": "stdout",
     "output_type": "stream",
     "text": [
      "{'hello'}\n"
     ]
    }
   ],
   "source": [
    "x ={\"hello\",\"baby\"}\n",
    "y = {\"ha\",\"babu\",\"hello\"}\n",
    "xx= x.intersection(y)\n",
    "print(xx)"
   ]
  },
  {
   "cell_type": "code",
   "execution_count": 8,
   "metadata": {},
   "outputs": [
    {
     "name": "stdout",
     "output_type": "stream",
     "text": [
      "{'babu', 'ha'}\n"
     ]
    }
   ],
   "source": [
    "x ={\"hello\",\"baby\"}\n",
    "y = {\"ha\",\"babu\",\"hello\"}\n",
    "xx= y.difference(x)\n",
    "print(xx)"
   ]
  },
  {
   "cell_type": "code",
   "execution_count": null,
   "metadata": {},
   "outputs": [],
   "source": []
  }
 ],
 "metadata": {
  "kernelspec": {
   "display_name": "Python 3",
   "language": "python",
   "name": "python3"
  },
  "language_info": {
   "codemirror_mode": {
    "name": "ipython",
    "version": 3
   },
   "file_extension": ".py",
   "mimetype": "text/x-python",
   "name": "python",
   "nbconvert_exporter": "python",
   "pygments_lexer": "ipython3",
   "version": "3.12.2"
  }
 },
 "nbformat": 4,
 "nbformat_minor": 2
}
