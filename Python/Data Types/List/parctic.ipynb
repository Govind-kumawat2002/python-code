{
 "cells": [
  {
   "cell_type": "code",
   "execution_count": 2,
   "metadata": {},
   "outputs": [
    {
     "name": "stdout",
     "output_type": "stream",
     "text": [
      "[1, 3, 5, 7, 9]\n"
     ]
    }
   ],
   "source": [
    "# '''Q-1. What will be the output of the following Python code?\n",
    "a=[1,2,3,4,5,6,7,8,9]\n",
    "print(a[::2])\n",
    "# list === refrential array"
   ]
  },
  {
   "cell_type": "code",
   "execution_count": 8,
   "metadata": {},
   "outputs": [
    {
     "name": "stdout",
     "output_type": "stream",
     "text": [
      "total multiple item in list 4\n"
     ]
    }
   ],
   "source": [
    "# Write a Python program to Multiply all numbers in the list?\n",
    "x = [1,4]\n",
    "result =1\n",
    "for item in x:\n",
    "        result*= item\n",
    "print(\"total multiple item in list\",result)\n",
    "\n",
    "\n",
    "# esme to function used hoga"
   ]
  },
  {
   "cell_type": "code",
   "execution_count": 4,
   "metadata": {},
   "outputs": [
    {
     "data": {
      "text/plain": [
       "1"
      ]
     },
     "execution_count": 4,
     "metadata": {},
     "output_type": "execute_result"
    }
   ],
   "source": [
    "# Write a Python program to find smallest number in a list?\n",
    "x = [1,2,3]\n",
    "min(x)\n",
    "\n",
    "\n"
   ]
  },
  {
   "cell_type": "code",
   "execution_count": 5,
   "metadata": {},
   "outputs": [
    {
     "data": {
      "text/plain": [
       "3"
      ]
     },
     "execution_count": 5,
     "metadata": {},
     "output_type": "execute_result"
    }
   ],
   "source": [
    "# Write a Python program to find largest number in a list?\n",
    "x  = [1,2,3]\n",
    "max(x)\n"
   ]
  },
  {
   "cell_type": "code",
   "execution_count": 6,
   "metadata": {},
   "outputs": [
    {
     "name": "stdout",
     "output_type": "stream",
     "text": [
      "second largest number in list 0\n"
     ]
    }
   ],
   "source": [
    "\n",
    "# Write a Python program to find second largest number in a list?\n",
    "x  = [1,2,3]\n",
    "output=0\n",
    "for item in x:\n",
    "    output>=1 ==item \n",
    "    print(\"second largest number in list\", output)\n",
    "    break"
   ]
  },
  {
   "cell_type": "code",
   "execution_count": 7,
   "metadata": {},
   "outputs": [
    {
     "ename": "AttributeError",
     "evalue": "'list' object has no attribute 'nlargest'",
     "output_type": "error",
     "traceback": [
      "\u001b[1;31m---------------------------------------------------------------------------\u001b[0m",
      "\u001b[1;31mAttributeError\u001b[0m                            Traceback (most recent call last)",
      "Cell \u001b[1;32mIn[7], line 3\u001b[0m\n\u001b[0;32m      1\u001b[0m \u001b[38;5;66;03m# Write a Python program to find N largest elements from a list?\u001b[39;00m\n\u001b[0;32m      2\u001b[0m x  \u001b[38;5;241m=\u001b[39m [\u001b[38;5;241m1\u001b[39m,\u001b[38;5;241m2\u001b[39m,\u001b[38;5;241m5\u001b[39m,\u001b[38;5;241m9\u001b[39m,\u001b[38;5;241m3\u001b[39m]\n\u001b[1;32m----> 3\u001b[0m \u001b[43mx\u001b[49m\u001b[38;5;241;43m.\u001b[39;49m\u001b[43mnlargest\u001b[49m()\n",
      "\u001b[1;31mAttributeError\u001b[0m: 'list' object has no attribute 'nlargest'"
     ]
    }
   ],
   "source": [
    "# Write a Python program to find N largest elements from a list?\n",
    "x  = [1,2,5,9,3]\n",
    "x.nlargest()"
   ]
  },
  {
   "cell_type": "code",
   "execution_count": null,
   "metadata": {},
   "outputs": [
    {
     "name": "stdout",
     "output_type": "stream",
     "text": [
      "that is odd\n"
     ]
    }
   ],
   "source": [
    "#Write a Python program to print odd numbers in a List?\n",
    "# x  = [1,2,3] #loop \n",
    "#Write a Python program to print even numbers in a list?\n",
    "x  = [1,2,3,1,2,3,1,2,3,46]\n",
    "item ==0\n",
    "if item%2!=0:\n",
    "    print(\"that is odd\",item)\n",
    "else:\n",
    "    print(\"that is odd\")    \n",
    "# for item in x:\n",
    "#     item%2==0\n",
    "#     print(\"that is even number in list\",item)"
   ]
  },
  {
   "cell_type": "code",
   "execution_count": null,
   "metadata": {},
   "outputs": [],
   "source": [
    "# \n"
   ]
  },
  {
   "cell_type": "code",
   "execution_count": null,
   "metadata": {},
   "outputs": [
    {
     "name": "stdout",
     "output_type": "stream",
     "text": [
      "List after removing empty lists: [[12, 44]]\n",
      "List after removing empty lists: [[12, 44], [55, 88]]\n"
     ]
    }
   ],
   "source": [
    "# Write a Python program to Remove empty List from List\n",
    "\n",
    "lit=  [[12,44],[55,88],[],[]]\n",
    "non_empty_list =[]\n",
    "for item in lit:\n",
    "    if item :\n",
    "        non_empty_list.append(item)\n",
    "        print(\"List after removing empty lists:\",non_empty_list)"
   ]
  },
  {
   "cell_type": "code",
   "execution_count": null,
   "metadata": {},
   "outputs": [
    {
     "name": "stdout",
     "output_type": "stream",
     "text": [
      "List after removing empty lists: [[1, 2], [3, 4], [5, 6]]\n"
     ]
    }
   ],
   "source": [
    "# Example list containing empty lists\n",
    "my_list = [[1, 2], [], [3, 4], [], [], [5, 6], []]\n",
    "\n",
    "# Create a new list to store non-empty lists\n",
    "non_empty_list = []\n",
    "\n",
    "# Iterate through each sublist in the original list\n",
    "for sublist in my_list:\n",
    "    # Check if the sublist is not empty\n",
    "    if sublist:\n",
    "        # If not empty, add it to the new list\n",
    "        non_empty_list.append(sublist)\n",
    "\n",
    "# Print the updated list\n",
    "print(\"List after removing empty lists:\", non_empty_list)\n"
   ]
  },
  {
   "cell_type": "code",
   "execution_count": null,
   "metadata": {},
   "outputs": [
    {
     "ename": "TypeError",
     "evalue": "list.count() takes exactly one argument (0 given)",
     "output_type": "error",
     "traceback": [
      "\u001b[1;31m---------------------------------------------------------------------------\u001b[0m",
      "\u001b[1;31mTypeError\u001b[0m                                 Traceback (most recent call last)",
      "Cell \u001b[1;32mIn[47], line 3\u001b[0m\n\u001b[0;32m      1\u001b[0m \u001b[38;5;66;03m#Write a Python program to Count occurrences of an element in a list?\u001b[39;00m\n\u001b[0;32m      2\u001b[0m x  \u001b[38;5;241m=\u001b[39m [\u001b[38;5;241m1\u001b[39m,\u001b[38;5;241m2\u001b[39m,\u001b[38;5;241m3\u001b[39m,\u001b[38;5;241m4\u001b[39m,\u001b[38;5;241m88\u001b[39m]\n\u001b[1;32m----> 3\u001b[0m \u001b[43mx\u001b[49m\u001b[38;5;241;43m.\u001b[39;49m\u001b[43mcount\u001b[49m\u001b[43m(\u001b[49m\u001b[43m)\u001b[49m\n",
      "\u001b[1;31mTypeError\u001b[0m: list.count() takes exactly one argument (0 given)"
     ]
    }
   ],
   "source": [
    "#Write a Python program to Count occurrences of an element in a list?\n",
    "x  = [1,2,3,4,88,4,2,2,6,8]\n",
    "# occurrence_number=2\n",
    "# heloo = occurrence_number.count\n",
    "\n",
    "\n"
   ]
  },
  {
   "cell_type": "markdown",
   "metadata": {},
   "source": [
    " Write a Python program to find words which are greater than given length k?\n",
    "Q12. Write a Python program for removing i-th character from a string?\n",
    "Q13. Write a Python program to split and join a string?\n",
    "Q14. Write a Python to check if a given string is binary string or not?\n",
    "Q15. Write a Python program to find uncommon words from two Strings?"
   ]
  },
  {
   "cell_type": "markdown",
   "metadata": {},
   "source": []
  },
  {
   "cell_type": "code",
   "execution_count": null,
   "metadata": {},
   "outputs": [
    {
     "name": "stdout",
     "output_type": "stream",
     "text": [
      "element hello\n",
      "element hiii\n"
     ]
    }
   ],
   "source": [
    "# Write a Python program for removing i-th character from a string?\n",
    "list = [\"hello\",\"hiii\",\"byyy\"]\n",
    "for item in range( len(list)-1):\n",
    "\n",
    "        print('element',list[item])\n",
    "\n"
   ]
  },
  {
   "cell_type": "code",
   "execution_count": null,
   "metadata": {},
   "outputs": [
    {
     "name": "stdout",
     "output_type": "stream",
     "text": [
      "['hello', 'hiii', 'byyy', 'hello', 'hiii', 'byyy']\n"
     ]
    },
    {
     "ename": "TypeError",
     "evalue": "'list' object is not callable",
     "output_type": "error",
     "traceback": [
      "\u001b[1;31m---------------------------------------------------------------------------\u001b[0m",
      "\u001b[1;31mTypeError\u001b[0m                                 Traceback (most recent call last)",
      "Cell \u001b[1;32mIn[49], line 7\u001b[0m\n\u001b[0;32m      5\u001b[0m \u001b[38;5;28mprint\u001b[39m(\u001b[38;5;28mlist\u001b[39m\u001b[38;5;241m+\u001b[39mlist2)\n\u001b[0;32m      6\u001b[0m \u001b[38;5;66;03m#split\u001b[39;00m\n\u001b[1;32m----> 7\u001b[0m \u001b[43mlist2\u001b[49m\u001b[43m(\u001b[49m\u001b[38;5;28;43mlist\u001b[39;49m\u001b[43m[\u001b[49m\u001b[38;5;241;43m1\u001b[39;49m\u001b[43m:\u001b[49m\u001b[38;5;241;43m2\u001b[39;49m\u001b[43m]\u001b[49m\u001b[43m)\u001b[49m\n",
      "\u001b[1;31mTypeError\u001b[0m: 'list' object is not callable"
     ]
    }
   ],
   "source": [
    "# Write a Python program to split and join a string?\n",
    "#join \n",
    "list = [\"hello\",\"hiii\",\"byyy\"]\n",
    "list2 = [\"hello\",\"hiii\",\"byyy\"]\n",
    "print(list+list2)\n",
    "#split\n",
    "list2(list[1:2])\n"
   ]
  },
  {
   "cell_type": "code",
   "execution_count": null,
   "metadata": {},
   "outputs": [
    {
     "name": "stdout",
     "output_type": "stream",
     "text": [
      "False\n"
     ]
    }
   ],
   "source": [
    "# Write a Python to check if a given string is binary string or n\n",
    "x= 8\n",
    "y=12\n",
    "print(x==y)\n"
   ]
  },
  {
   "cell_type": "code",
   "execution_count": null,
   "metadata": {},
   "outputs": [
    {
     "ename": "AttributeError",
     "evalue": "'tuple' object has no attribute 'remove'",
     "output_type": "error",
     "traceback": [
      "\u001b[1;31m---------------------------------------------------------------------------\u001b[0m",
      "\u001b[1;31mAttributeError\u001b[0m                            Traceback (most recent call last)",
      "Cell \u001b[1;32mIn[38], line 4\u001b[0m\n\u001b[0;32m      1\u001b[0m \u001b[38;5;66;03m# Write a Python program to find uncommon words from two Strings? by hashing \u001b[39;00m\n\u001b[0;32m      3\u001b[0m x \u001b[38;5;241m=\u001b[39m\u001b[38;5;124m'\u001b[39m\u001b[38;5;124mhello \u001b[39m\u001b[38;5;124m'\u001b[39m, \u001b[38;5;124m'\u001b[39m\u001b[38;5;124mhii\u001b[39m\u001b[38;5;124m'\u001b[39m,\u001b[38;5;124m'\u001b[39m\u001b[38;5;124mbyy\u001b[39m\u001b[38;5;124m'\u001b[39m\n\u001b[1;32m----> 4\u001b[0m \u001b[43mx\u001b[49m\u001b[38;5;241;43m.\u001b[39;49m\u001b[43mremove\u001b[49m(\u001b[38;5;124m'\u001b[39m\u001b[38;5;124mhello\u001b[39m\u001b[38;5;124m'\u001b[39m)\n",
      "\u001b[1;31mAttributeError\u001b[0m: 'tuple' object has no attribute 'remove'"
     ]
    }
   ],
   "source": [
    "# Write a Python program to find uncommon words from two Strings? by hashing \n",
    "\n"
   ]
  },
  {
   "cell_type": "code",
   "execution_count": null,
   "metadata": {},
   "outputs": [
    {
     "name": "stdout",
     "output_type": "stream",
     "text": [
      "Second largest number in the list: 30\n"
     ]
    }
   ],
   "source": [
    "# Example list\n",
    "my_list = [10, 5, 20, 15, 30]\n",
    "\n",
    "# Initialize variables to store maximum and second maximum numbers\n",
    "max_num = float('-inf')\n",
    "largest_max = float('-inf')\n",
    "\n",
    "# Iterate through the list to find maximum and second maximum\n",
    "for num in my_list:\n",
    "    if num == max_num:\n",
    "        largest_max = max_num\n",
    "        latgest_num = num\n",
    "    elif num > largest_max and num != max_num:\n",
    "        largest_max = num\n",
    "\n",
    "# Print the second largest number\n",
    "print(\"Second largest number in the list:\", largest_max)\n"
   ]
  },
  {
   "cell_type": "code",
   "execution_count": null,
   "metadata": {},
   "outputs": [
    {
     "data": {
      "text/plain": [
       "20"
      ]
     },
     "execution_count": 7,
     "metadata": {},
     "output_type": "execute_result"
    }
   ],
   "source": [
    "\n",
    "my_list = [10, 5, 20, 15, 30]\n",
    "my_list.sort(reverse=True)\n",
    "my_list[1]"
   ]
  },
  {
   "cell_type": "code",
   "execution_count": null,
   "metadata": {},
   "outputs": [],
   "source": [
    "# make your own sort()"
   ]
  },
  {
   "cell_type": "code",
   "execution_count": null,
   "metadata": {},
   "outputs": [],
   "source": [
    "import re    # regular expression"
   ]
  },
  {
   "cell_type": "code",
   "execution_count": null,
   "metadata": {},
   "outputs": [
    {
     "data": {
      "text/plain": [
       "'\"College education stands as a 54548 pivotal milestone in many individuals\\' lives, symbolizing not only not academic achievement but also personal growth, career prospects, and societal contributions. Beyond the mere acquisition of knowledge, college fosters an environment  4845 symbolizing conducive to holistic development, shaping individuals intellectually, 54787 socially, and emotionally. In this essay, we\\'ll explore the multifaceted value of college education, its transformative power, and its enduring significance in today\\'s power world'"
      ]
     },
     "execution_count": 63,
     "metadata": {},
     "output_type": "execute_result"
    }
   ],
   "source": [
    "text = \"\"\"\"College education stands as a 54548 pivotal milestone in many individuals' lives, symbolizing not only not academic achievement but also personal growth, career prospects, and societal contributions. Beyond the mere acquisition of knowledge, college fosters an environment  4845 symbolizing conducive to holistic development, shaping individuals intellectually, 54787 socially, and emotionally. In this essay, we'll explore the multifaceted value of college education, its transformative power, and its enduring significance in today's power world\"\"\"\n",
    "text "
   ]
  },
  {
   "cell_type": "code",
   "execution_count": null,
   "metadata": {},
   "outputs": [
    {
     "data": {
      "text/plain": [
       "5"
      ]
     },
     "execution_count": 24,
     "metadata": {},
     "output_type": "execute_result"
    }
   ],
   "source": [
    "text[text.find('not')+4:].find('not')"
   ]
  },
  {
   "cell_type": "code",
   "execution_count": null,
   "metadata": {},
   "outputs": [
    {
     "name": "stdout",
     "output_type": "stream",
     "text": [
      "None\n"
     ]
    }
   ],
   "source": [
    "pattern = \"^College.*world$\"\n",
    "print(re.search(pattern,text))"
   ]
  },
  {
   "cell_type": "code",
   "execution_count": null,
   "metadata": {},
   "outputs": [
    {
     "data": {
      "text/plain": [
       "<re.Match object; span=(77, 80), match='sym'>"
      ]
     },
     "execution_count": 46,
     "metadata": {},
     "output_type": "execute_result"
    }
   ],
   "source": [
    "re.search(\"sym\",text)"
   ]
  },
  {
   "cell_type": "code",
   "execution_count": null,
   "metadata": {},
   "outputs": [
    {
     "data": {
      "text/plain": [
       "2"
      ]
     },
     "execution_count": 52,
     "metadata": {},
     "output_type": "execute_result"
    }
   ],
   "source": [
    "len(re.findall(\"power\",text))"
   ]
  },
  {
   "cell_type": "code",
   "execution_count": null,
   "metadata": {},
   "outputs": [
    {
     "data": {
      "text/plain": [
       "['\"College education stands as a pivotal milestone in many individuals\\' lives',\n",
       " ' symbolizing not only not academic achievement but also personal growth',\n",
       " ' career prospects',\n",
       " ' and societal contributions. Beyond the mere acquisition of knowledge',\n",
       " ' college fosters an environment symbolizing conducive to holistic development',\n",
       " ' shaping individuals intellectually',\n",
       " ' socially',\n",
       " ' and emotionally. In this essay',\n",
       " \" we'll explore the multifaceted value of college education\",\n",
       " ' its transformative power',\n",
       " \" and its enduring significance in today's power world\"]"
      ]
     },
     "execution_count": 60,
     "metadata": {},
     "output_type": "execute_result"
    }
   ],
   "source": [
    "re.split(',',text)"
   ]
  },
  {
   "cell_type": "code",
   "execution_count": null,
   "metadata": {},
   "outputs": [
    {
     "name": "stdout",
     "output_type": "stream",
     "text": [
      "not matched\n"
     ]
    }
   ],
   "source": [
    "pattern = 'symbo5'\n",
    "x = re.search(pattern,text)\n",
    "\n",
    "if x:\n",
    "    print('pattern matched')\n",
    "else:\n",
    "    print('not matched')"
   ]
  },
  {
   "cell_type": "code",
   "execution_count": null,
   "metadata": {},
   "outputs": [
    {
     "data": {
      "text/plain": [
       "'symbo'"
      ]
     },
     "execution_count": 27,
     "metadata": {},
     "output_type": "execute_result"
    }
   ],
   "source": [
    "text[77:82]"
   ]
  },
  {
   "cell_type": "code",
   "execution_count": null,
   "metadata": {},
   "outputs": [
    {
     "name": "stdout",
     "output_type": "stream",
     "text": [
      "\"College education stands as a pivotal milestone in many individuals' lives, symbolizing not only not academic achievement but also personal growth, career prospects, and societal contributions. Beyond the mere acquisition of knowledge, college fosters an environment symbolizing conducive to holistic development, shaping individuals intellectually, socially, and emotionally. In this essay, we'll explore the multifaceted value of college education, its transformative power, and its enduring significance in today's power world\n"
     ]
    }
   ],
   "source": [
    "print(text)"
   ]
  },
  {
   "cell_type": "code",
   "execution_count": null,
   "metadata": {},
   "outputs": [
    {
     "data": {
      "text/plain": [
       "'\"College education stands as a 54548 pivotal ROCKY in many individuals\\' lives, symbolizing not only not academic achievement but also personal growth, career prospects, and societal contributions. Beyond the mere acquisition of knowledge, college fosters an environment  4845 symbolizing conducive to holistic development, shaping individuals intellectually, 54787 socially, and emotionally. In this essay, we\\'ll explore the multifaceted value of college education, its transformative power, and its enduring significance in today\\'s power world'"
      ]
     },
     "execution_count": 68,
     "metadata": {},
     "output_type": "execute_result"
    }
   ],
   "source": [
    "re.sub('milestone','ROCKY',text)"
   ]
  },
  {
   "cell_type": "code",
   "execution_count": null,
   "metadata": {},
   "outputs": [
    {
     "data": {
      "text/plain": [
       "'\"College education stands as a 54548 pivotal milestone in many individuals\\' lives, symbolizing not only not academic achievement but also personal growth, career prospects, and societal contributions. Beyond the mere acquisition of knowledge, college fosters an environment  4845 symbolizing conducive to holistic development, shaping individuals intellectually, 54787 socially, and emotionally. In this essay, we\\'ll explore the multifaceted value of college education, its transformative power, and its enduring significance in today\\'s power world'"
      ]
     },
     "execution_count": 71,
     "metadata": {},
     "output_type": "execute_result"
    }
   ],
   "source": [
    "text"
   ]
  },
  {
   "cell_type": "code",
   "execution_count": null,
   "metadata": {},
   "outputs": [
    {
     "data": {
      "text/plain": [
       "' College education stands as a       pivotal milestone in many individuals  lives  symbolizing not only not academic achievement but also personal growth  career prospects  and societal contributions  Beyond the mere acquisition of knowledge  college fosters an environment       symbolizing conducive to holistic development  shaping individuals intellectually        socially  and emotionally  In this essay  we ll explore the multifaceted value of college education  its transformative power  and its enduring significance in today s power world'"
      ]
     },
     "execution_count": 73,
     "metadata": {},
     "output_type": "execute_result"
    }
   ],
   "source": [
    "re.sub('[^a-zA-Z]',' ',text)"
   ]
  },
  {
   "cell_type": "code",
   "execution_count": null,
   "metadata": {},
   "outputs": [
    {
     "data": {
      "text/plain": [
       "'\"College education stands as a 54548 pivotal milestone in many individuals\\' lives, symbolizing not only not academic achievement but also personal growth, career prospects, and societal contributions. Beyond the mere acquisition of knowledge, college fosters an environment  4845 symbolizing conducive to holistic development, shaping individuals intellectually, 54787 socially, and emotionally. In this essay, we\\'ll explore the multifaceted value of college education, its transformative power, and its enduring significance in today\\'s power world'"
      ]
     },
     "execution_count": 74,
     "metadata": {},
     "output_type": "execute_result"
    }
   ],
   "source": [
    "text"
   ]
  },
  {
   "cell_type": "code",
   "execution_count": null,
   "metadata": {},
   "outputs": [
    {
     "data": {
      "text/plain": [
       "'\"College education stands as a 54548 pivotal milestone in smartenginnee452@gmail.com many individuals\\' lives, symbolizing not only not academic achievement 8545966575 but also personal growth, +917885954565 career prospects, and societal contributions. Beyond the mere acquisition of knowledge, college fosters an jiradhey4022@gmail.com environment  4845 symbolizing conducive to holistic development, shaping 9758125245 individuals intellectually, 54787 socially, and emotionally. In this essay, we\\'ll explore the multifaceted value of college education, its transformative power, and its enduring significance in today\\'s power world'"
      ]
     },
     "execution_count": 81,
     "metadata": {},
     "output_type": "execute_result"
    }
   ],
   "source": [
    "text = \"\"\"\"College education stands as a 54548 pivotal milestone in smartenginnee452@gmail.com many individuals' lives, symbolizing not only not academic achievement 8545966575 but also personal growth, +917885954565 career prospects, and societal contributions. Beyond the mere acquisition of knowledge, college fosters an jiradhey4022@gmail.com environment  4845 symbolizing conducive to holistic development, shaping 9758125245 individuals intellectually, 54787 socially, and emotionally. In this essay, we'll explore the multifaceted value of college education, its transformative power, and its enduring significance in today's power world\"\"\"\n",
    "text "
   ]
  },
  {
   "cell_type": "code",
   "execution_count": null,
   "metadata": {},
   "outputs": [
    {
     "data": {
      "text/plain": [
       "['smartenginnee452@gmail.com', 'jiradhey4022@gmail.com']"
      ]
     },
     "execution_count": 80,
     "metadata": {},
     "output_type": "execute_result"
    }
   ],
   "source": [
    "pattern = r\"\\b[A-Za-z0-9._%+-]+@gmail\\.com\\b\"\n",
    "\n",
    "re.findall(pattern,text)"
   ]
  },
  {
   "cell_type": "code",
   "execution_count": null,
   "metadata": {},
   "outputs": [
    {
     "data": {
      "text/plain": [
       "[' 8545966575', '917885954565', ' 9758125245']"
      ]
     },
     "execution_count": 82,
     "metadata": {},
     "output_type": "execute_result"
    }
   ],
   "source": [
    "pattern = r\"\\b(?:\\+?91|0)?[ -]?\\d{3}[ -]?\\d{4}[ -]?\\d{3}\\b\"\n",
    "re.findall(pattern,text)"
   ]
  },
  {
   "cell_type": "code",
   "execution_count": null,
   "metadata": {},
   "outputs": [],
   "source": [
    "# Polymorphism \n",
    "# encapsulation\n",
    "\n",
    "var1 = \"upflairs pvt ltd\"\n",
    "var2 = [14,52,45,63,52,45,74,12]\n",
    "var3  = {1,2,3,5,4}\n",
    "var4 = {'a':1,'b':2,'c':3}\n",
    "var5 = (14,52,45,63,52,45,74,1200)"
   ]
  },
  {
   "cell_type": "code",
   "execution_count": null,
   "metadata": {},
   "outputs": [
    {
     "data": {
      "text/plain": [
       "8"
      ]
     },
     "execution_count": 89,
     "metadata": {},
     "output_type": "execute_result"
    }
   ],
   "source": [
    "len(var5)"
   ]
  },
  {
   "cell_type": "code",
   "execution_count": null,
   "metadata": {},
   "outputs": [],
   "source": [
    "class A:\n",
    "    def move(self):\n",
    "        print('class A')\n",
    "\n",
    "class B:\n",
    "    def move(self):\n",
    "        print('class B')\n",
    "\n",
    "class C:\n",
    "    def move(self):\n",
    "        print('clas c')\n",
    "\n"
   ]
  },
  {
   "cell_type": "code",
   "execution_count": null,
   "metadata": {},
   "outputs": [
    {
     "data": {
      "text/plain": [
       "8"
      ]
     },
     "execution_count": 92,
     "metadata": {},
     "output_type": "execute_result"
    }
   ],
   "source": []
  },
  {
   "cell_type": "code",
   "execution_count": null,
   "metadata": {},
   "outputs": [
    {
     "data": {
      "text/plain": [
       "8"
      ]
     },
     "execution_count": 93,
     "metadata": {},
     "output_type": "execute_result"
    }
   ],
   "source": [
    "len(var2)"
   ]
  },
  {
   "cell_type": "code",
   "execution_count": null,
   "metadata": {},
   "outputs": [
    {
     "name": "stdout",
     "output_type": "stream",
     "text": [
      "2.0\n",
      "6\n"
     ]
    }
   ],
   "source": [
    "class aver:\n",
    "     def text(self,sss): \n",
    "          # item = 0\n",
    "          temp =0\n",
    "          for item in sss:\n",
    "               temp+= item\n",
    "          # print(temp)\n",
    "          item+=1\n",
    "          av = temp/item\n",
    "          print(av)\n",
    "\n",
    "          print(item)\n",
    "\n",
    "\n",
    "          \n",
    "a = aver()\n",
    "a.text(sss= [1,5,1,5])\n",
    "\n",
    "        \n",
    "        # # instance method \n",
    "#     def display(self):\n",
    "#         print(self.animal_weight) \n"
   ]
  },
  {
   "cell_type": "code",
   "execution_count": null,
   "metadata": {},
   "outputs": [
    {
     "name": "stdout",
     "output_type": "stream",
     "text": [
      "this is your average :  11.857142857142858\n",
      "41\n",
      "25\n",
      "12\n"
     ]
    }
   ],
   "source": [
    "class Average_finder:\n",
    "    def __init__(self,lst):\n",
    "        self.lst_items = lst\n",
    "        self.lst_items2 = [41,2,1,3,6,4,2,1,5,7,8,5,2,1,25,12,5]\n",
    "\n",
    "    def average(self):\n",
    "        items = 0\n",
    "        total = 0\n",
    "        for item in self.lst_items:\n",
    "            total += item\n",
    "            items += 1\n",
    "        average = total/items\n",
    "        return average\n",
    "class B(Average_finder):\n",
    "   def less_than_average_elements(self):\n",
    "\n",
    "    a = self.average()\n",
    "    print('this is your average : ',a )\n",
    "    for item2 in self.lst_items2:\n",
    "        if item2 <=a:\n",
    "            print(item2)\n",
    "            \n",
    "            \n",
    "\n",
    "\n",
    "obj = B(lst=[1,1,5,5,10,20,41])\n",
    "obj.less_than_average_elements()\n"
   ]
  },
  {
   "cell_type": "code",
   "execution_count": null,
   "metadata": {},
   "outputs": [
    {
     "name": "stdout",
     "output_type": "stream",
     "text": [
      "<bound method String_1.find of <__main__.String_1 object at 0x000002BCBEB57810>>\n"
     ]
    }
   ],
   "source": [
    "class String_1:\n",
    "    def __init__(self):\n",
    "        self.bb = 'hello hii byyy'\n",
    "    def find(self):\n",
    "        dict={}    \n",
    "        for item in self.bbs:\n",
    "            # if item.isalpha():\n",
    "                \n",
    "       \n",
    "\n",
    "\n",
    "\n",
    "\n",
    "obj=String_1()\n",
    "a= obj.find\n",
    "print(a)\n",
    " "
   ]
  },
  {
   "cell_type": "code",
   "execution_count": null,
   "metadata": {},
   "outputs": [],
   "source": [
    "{'a':2,'h':3}"
   ]
  },
  {
   "cell_type": "code",
   "execution_count": null,
   "metadata": {},
   "outputs": [
    {
     "name": "stdout",
     "output_type": "stream",
     "text": [
      "{'h': 1, 'e': 1, 'l': 3, 'o': 2, 'w': 1, 'r': 1, 'd': 1}\n"
     ]
    }
   ],
   "source": [
    "def count_alphabets(input_string):\n",
    "    # Initialize an empty dictionary to store counts of each alphabet\n",
    "    alphabet_counts = {}\n",
    "\n",
    "    # Iterating through the characters in the string\n",
    "    for char in input_string:\n",
    "        if char.isalpha():  # Checking if the character is alphabetic\n",
    "            char_lower = char.lower()  # Convert the character to lowercase\n",
    "            # Increment the count of the alphabet in the dictionary\n",
    "            alphabet_counts[char_lower] = alphabet_counts.get(char_lower, 0) + 1\n",
    "\n",
    "    return alphabet_counts\n",
    "\n",
    "# Example usage\n",
    "input_str = \"Hello, World!\"\n",
    "result = count_alphabets(input_str)\n",
    "print(result) "
   ]
  },
  {
   "cell_type": "code",
   "execution_count": null,
   "metadata": {},
   "outputs": [],
   "source": []
  }
 ],
 "metadata": {
  "kernelspec": {
   "display_name": "Python 3",
   "language": "python",
   "name": "python3"
  },
  "language_info": {
   "codemirror_mode": {
    "name": "ipython",
    "version": 3
   },
   "file_extension": ".py",
   "mimetype": "text/x-python",
   "name": "python",
   "nbconvert_exporter": "python",
   "pygments_lexer": "ipython3",
   "version": "3.12.4"
  }
 },
 "nbformat": 4,
 "nbformat_minor": 2
}
