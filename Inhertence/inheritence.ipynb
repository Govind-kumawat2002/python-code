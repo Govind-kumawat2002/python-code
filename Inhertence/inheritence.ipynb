{
 "cells": [
  {
   "cell_type": "markdown",
   "metadata": {},
   "source": [
    "### Inheritence"
   ]
  },
  {
   "cell_type": "code",
   "execution_count": 1,
   "metadata": {},
   "outputs": [],
   "source": [
    "# single inheritence\n",
    "class Father:\n",
    "    def father_name(self):\n",
    "        print('Mohan singh') \n",
    "\n",
    "    @staticmethod\n",
    "    def hello():\n",
    "        print('hello')\n",
    "\n",
    "class Child(Father):\n",
    "\n",
    "    def children_name(self):\n",
    "        print('rohit kumar')\n",
    "\n",
    "    \n",
    "    \n",
    "\n",
    "father_instance  = Father()\n",
    "children_instance = Child()\n",
    "# father_instance.father_name()  \n",
    "# father_instance.children_name()  \n",
    "# children_instance.children_name()\n",
    "# children_instance."
   ]
  },
  {
   "cell_type": "code",
   "execution_count": 2,
   "metadata": {},
   "outputs": [
    {
     "name": "stdout",
     "output_type": "stream",
     "text": [
      "child constructor executed\n",
      "father constructor executed\n",
      "hello\n",
      "mohan singh\n"
     ]
    }
   ],
   "source": [
    "# single \n",
    "# multilevel\n",
    "# multiple \n",
    "# hierarchical\n",
    "# hybrid\n",
    "\n",
    "\n",
    "# single inheritence with constructor\n",
    "class Father:\n",
    "    def __init__(self,father_name, father_age):\n",
    "        self.father_name = father_name\n",
    "        self.father_age = father_age\n",
    "        print('father constructor executed')\n",
    "\n",
    "    def father_hii(self):\n",
    "        print(self.father_name) \n",
    "\n",
    "    @staticmethod\n",
    "    def hello():\n",
    "        print('hello')\n",
    "\n",
    "class Child(Father):\n",
    "\n",
    "    def __init__(self,children_name,children_age,father_name,father_age):\n",
    "        self.children_name = children_name\n",
    "        self.children_age  = children_age\n",
    "        print('child constructor executed')\n",
    "        super().__init__(father_name=father_name,father_age=father_age)\n",
    "        super().hello()\n",
    "\n",
    "    def children_name(self):\n",
    "        print('rohit kumar')\n",
    "\n",
    "    \n",
    "    \n",
    "\n",
    "# father_instance  = Father(father_name=\"mohan singh\",father_age=45)\n",
    "children_instance = Child(children_name='rohit kumar',children_age=25,father_name=\"mohan singh\",father_age=45)\n",
    "# father_instance.father_hii()\n",
    "children_instance.father_hii()\n"
   ]
  },
  {
   "cell_type": "code",
   "execution_count": 3,
   "metadata": {},
   "outputs": [
    {
     "name": "stdout",
     "output_type": "stream",
     "text": [
      "father constructor executed\n",
      "rohit kumar 45\n",
      "mohan singh\n"
     ]
    }
   ],
   "source": [
    "# multileve inheritence\n",
    "class Father:\n",
    "    def __init__(self,father_name, father_age):\n",
    "        self.father_name = father_name\n",
    "        self.father_age = father_age\n",
    "        print('father constructor executed')\n",
    "\n",
    "    def father_hii(self):\n",
    "        print(self.father_name) \n",
    "\n",
    "    @staticmethod\n",
    "    def hello():\n",
    "        print('hello')\n",
    "\n",
    "class Child(Father):\n",
    "\n",
    "    def __init__(self,children_name,children_age,father_name,father_age):\n",
    "        self.children_name = children_name\n",
    "        self.children_age  = children_age\n",
    "        Father.__init__(self,father_name,father_age)\n",
    "\n",
    "    def childhii(self):\n",
    "        print(self.children_name,self.children_age)\n",
    "\n",
    "\n",
    "class GrandChild(Child):\n",
    "    def __init__(self,grand_child_name,grand_child_age,children_name,children_age):\n",
    "        self.grand_name = grand_child_name\n",
    "        self.grand_age = grand_child_age\n",
    "        # Father.__init__(self,father_name,father_age)\n",
    "        Child.__init__(self,children_name,children_age)\n",
    "\n",
    "    def grandchildHii(self):\n",
    "        print(\"name : \",self.grand_name,\"and age is : \",self.grand_age)\n",
    "\n",
    "    \n",
    "    \n",
    "\n",
    "# father_instance  = Father(father_name=\"mohan singh\",father_age=45)\n",
    "# children_instance = Child(children_name='rohit kumar',children_age=25,father_name=\"mohan singh\",father_age=45)\n",
    "\n",
    "# grand_obj = GrandChild(grand_child_name='chhotu',grand_child_age=12,children_name='rohit kumar',children_age=25)\n",
    "# grand_obj.grandchildHii()\n",
    "# print()\n",
    "# grand_obj.childhii()\n",
    "# print()\n",
    "# grand_obj.father_hii()\n",
    "\n",
    "# print()\n",
    "# print()\n",
    "child_obj = Child(children_name='rohit kumar',children_age=45,father_name='mohan singh',father_age=45)\n",
    "child_obj.childhii()\n",
    "# print()\n",
    "child_obj.father_hii()"
   ]
  },
  {
   "cell_type": "code",
   "execution_count": 4,
   "metadata": {},
   "outputs": [
    {
     "ename": "NameError",
     "evalue": "name 'hello' is not defined",
     "output_type": "error",
     "traceback": [
      "\u001b[1;31m---------------------------------------------------------------------------\u001b[0m",
      "\u001b[1;31mNameError\u001b[0m                                 Traceback (most recent call last)",
      "Cell \u001b[1;32mIn[4], line 1\u001b[0m\n\u001b[1;32m----> 1\u001b[0m \u001b[43mhello\u001b[49m()\n",
      "\u001b[1;31mNameError\u001b[0m: name 'hello' is not defined"
     ]
    }
   ],
   "source": [
    "hello()"
   ]
  },
  {
   "cell_type": "code",
   "execution_count": null,
   "metadata": {},
   "outputs": [],
   "source": [
    "# multileve inheritence\n",
    "class india:\n",
    "    def __init__(self,india_name, india_area):\n",
    "        self.india_name = india_name\n",
    "        self.india_area = india_area\n",
    "        print('INDIA constructor executed')\n",
    "\n",
    "    def father_hii(self):\n",
    "        print(self.father_name) \n",
    "\n",
    "    @staticmethod\n",
    "    def hello():\n",
    "        print('hello')\n",
    "\n",
    "class Child(Father):\n",
    "\n",
    "    def __init__(self,children_name,children_age,father_name,father_age):\n",
    "        self.children_name = children_name\n",
    "        self.children_age  = children_age\n",
    "        Father.__init__(self,father_name,father_age)\n",
    "\n",
    "    def childhii(self):\n",
    "        print(self.children_name,self.children_age)\n",
    "\n",
    "\n",
    "class GrandChild(Child):\n",
    "    def __init__(self,grand_child_name,grand_child_age,children_name,children_age):\n",
    "        self.grand_name = grand_child_name\n",
    "        self.grand_age = grand_child_age\n",
    "        # Father.__init__(self,father_name,father_age)\n",
    "        Child.__init__(self,children_name,children_age)\n",
    "\n",
    "    def grandchildHii(self):\n",
    "        print(\"name : \",self.grand_name,\"and age is : \",self.grand_age)\n",
    "\n",
    "    \n",
    "    \n",
    "\n",
    "# father_instance  = Father(father_name=\"mohan singh\",father_age=45)\n",
    "# children_instance = Child(children_name='rohit kumar',children_age=25,father_name=\"mohan singh\",father_age=45)\n",
    "\n",
    "# grand_obj = GrandChild(grand_child_name='chhotu',grand_child_age=12,children_name='rohit kumar',children_age=25)\n",
    "# grand_obj.grandchildHii()\n",
    "# print()\n",
    "# grand_obj.childhii()\n",
    "# print()\n",
    "# grand_obj.father_hii()\n",
    "\n",
    "# print()\n",
    "# print()\n",
    "child_obj = Child(children_name='rohit kumar',children_age=45,father_name='mohan singh',father_age=45)\n",
    "child_obj.childhii()\n",
    "# print()\n",
    "child_obj.father_hii()"
   ]
  },
  {
   "cell_type": "code",
   "execution_count": 10,
   "metadata": {},
   "outputs": [
    {
     "name": "stdout",
     "output_type": "stream",
     "text": [
      "father constructor executed\n",
      "child class constructor executed\n"
     ]
    }
   ],
   "source": [
    "# A  -->  B \n",
    "# A  -->  B --->  C ---> D \n",
    "# A   ,   B   ,   C   ,   D  ------>   E\n",
    "\n",
    "# Multiple inheritence \n",
    "\n",
    "class Father:\n",
    "    def __init__(self,father_name, father_age):\n",
    "        self.father_name = father_name\n",
    "        self.father_age = father_age\n",
    "        print('father constructor executed')\n",
    "\n",
    "    def father_hii(self):\n",
    "        print(self.father_name) \n",
    "\n",
    "\n",
    "class Child:\n",
    "\n",
    "    def __init__(self,children_name,children_age):\n",
    "        self.children_name = children_name\n",
    "        self.children_age  = children_age\n",
    "        print('child class constructor executed')\n",
    "        \n",
    "\n",
    "    def childhii(self):\n",
    "        print(self.children_name,self.children_age)\n",
    "\n",
    "\n",
    "class GrandChild(Father,Child):\n",
    "    def __init__(self,grand_child_name,grand_child_age,father_name, father_age,children_name,children_age):\n",
    "        self.grand_name = grand_child_name\n",
    "        self.grand_age = grand_child_age\n",
    "\n",
    "        Father.__init__(self,father_name=father_name,father_age=father_age)\n",
    "        Child.__init__(self,children_name=children_name,children_age=children_age)\n",
    "\n",
    "    def grandchildHii(self):\n",
    "        print(\"name : \",self.grand_name,\"and age is : \",self.grand_age)\n",
    "\n",
    "\n",
    "grandchild_obj = GrandChild(grand_child_name='chhotu',grand_child_age=12,father_name='mohan singh', father_age=45,children_name='rohit kumar',children_age=25)"
   ]
  },
  {
   "cell_type": "code",
   "execution_count": 11,
   "metadata": {},
   "outputs": [
    {
     "name": "stdout",
     "output_type": "stream",
     "text": [
      "name :  chhotu and age is :  12\n",
      "\n",
      "rohit kumar 25\n",
      "\n",
      "mohan singh\n"
     ]
    }
   ],
   "source": [
    "grandchild_obj.grandchildHii()\n",
    "print()\n",
    "grandchild_obj.childhii()\n",
    "print()\n",
    "grandchild_obj.father_hii()"
   ]
  },
  {
   "cell_type": "code",
   "execution_count": 60,
   "metadata": {},
   "outputs": [
    {
     "data": {
      "text/plain": [
       "[25,\n",
       " 41,\n",
       " 78,\n",
       " 45,\n",
       " 63,\n",
       " 26,\n",
       " 99,\n",
       " 48,\n",
       " 55,\n",
       " 45,\n",
       " 63,\n",
       " 21,\n",
       " 15,\n",
       " 42,\n",
       " 62,\n",
       " 54,\n",
       " 75,\n",
       " 65,\n",
       " 35,\n",
       " 85,\n",
       " 96,\n",
       " 4,\n",
       " 5,\n",
       " 78,\n",
       " 41,\n",
       " 21,\n",
       " 325]"
      ]
     },
     "execution_count": 60,
     "metadata": {},
     "output_type": "execute_result"
    }
   ],
   "source": [
    "class Quize:\n",
    "    def __init__(self) -> None:\n",
    "        self.lst = [25,41,78,45,63,26,99,48,55,45,63,21,15,42,62,54,75,65,35,85,96,4,5,78,41,21,325]\n",
    "\n",
    "    def total_no_even_odd(self):\n",
    "        even = 0\n",
    "        for item in self.lst:   # obj.lst\n",
    "            if item%2==0:\n",
    "                even  += 1\n",
    "\n",
    "        len_lst = len(self.lst)\n",
    "        odd = len_lst - even\n",
    "        print('total no. of even ',even,'total no. odd ',odd,'complete length of list ',len_lst)\n",
    "obj = Quize()\n",
    "# obj.total_no_even_odd()\n",
    "\n",
    "obj.lst\n",
    "\n",
    "    \n",
    "        "
   ]
  },
  {
   "cell_type": "code",
   "execution_count": 75,
   "metadata": {},
   "outputs": [
    {
     "name": "stdout",
     "output_type": "stream",
     "text": [
      "not present\n"
     ]
    }
   ],
   "source": [
    "class Quize:\n",
    "    def __init__(self) -> None:\n",
    "        self.lst = [25,41,78,45,63,26,99,48,55,45,63,21,15,42,62,54,75,65,35,85,96,4,5,78,41,21,325]\n",
    "\n",
    "    def target_finder(self,target):\n",
    "        output = ['present' for item in self.lst if item == target]\n",
    "        if len(output)>0:\n",
    "            print('present')\n",
    "        else:\n",
    "            print('not present')\n",
    "\n",
    "\n",
    "\n",
    "\n",
    "obj =Quize()\n",
    "obj.target_finder(target=22)\n"
   ]
  },
  {
   "cell_type": "code",
   "execution_count": 33,
   "metadata": {},
   "outputs": [
    {
     "ename": "EnsureError",
     "evalue": "Return value of <function fun at 0x000001E9C4829EE0> of type <class 'float'> does not match annotation type <class 'int'>",
     "output_type": "error",
     "traceback": [
      "\u001b[1;31m---------------------------------------------------------------------------\u001b[0m",
      "\u001b[1;31mEnsureError\u001b[0m                               Traceback (most recent call last)",
      "Cell \u001b[1;32mIn[33], line 9\u001b[0m\n\u001b[0;32m      3\u001b[0m \u001b[38;5;129m@ensure_annotations\u001b[39m\n\u001b[0;32m      4\u001b[0m \u001b[38;5;28;01mdef\u001b[39;00m \u001b[38;5;21mfun\u001b[39m(x: \u001b[38;5;28mint\u001b[39m, y: \u001b[38;5;28mfloat\u001b[39m) \u001b[38;5;241m-\u001b[39m\u001b[38;5;241m>\u001b[39m \u001b[38;5;28mint\u001b[39m:   \u001b[38;5;66;03m# data validation\u001b[39;00m\n\u001b[0;32m      5\u001b[0m     \u001b[38;5;28;01mreturn\u001b[39;00m x\u001b[38;5;241m+\u001b[39my\n\u001b[1;32m----> 9\u001b[0m \u001b[43mfun\u001b[49m\u001b[43m(\u001b[49m\u001b[43mx\u001b[49m\u001b[38;5;241;43m=\u001b[39;49m\u001b[38;5;241;43m20\u001b[39;49m\u001b[43m,\u001b[49m\u001b[43my\u001b[49m\u001b[38;5;241;43m=\u001b[39;49m\u001b[38;5;241;43m20.5\u001b[39;49m\u001b[43m)\u001b[49m\n",
      "File \u001b[1;32mc:\\Users\\kumaw\\AppData\\Local\\Programs\\Python\\Python311\\Lib\\site-packages\\ensure\\main.py:875\u001b[0m, in \u001b[0;36mWrappedFunctionReturn.__call__\u001b[1;34m(self, *args, **kwargs)\u001b[0m\n\u001b[0;32m    873\u001b[0m \u001b[38;5;28;01mif\u001b[39;00m \u001b[38;5;129;01mnot\u001b[39;00m \u001b[38;5;28misinstance\u001b[39m(return_val, \u001b[38;5;28mself\u001b[39m\u001b[38;5;241m.\u001b[39mreturn_templ):\n\u001b[0;32m    874\u001b[0m     msg \u001b[38;5;241m=\u001b[39m \u001b[38;5;124m\"\u001b[39m\u001b[38;5;124mReturn value of \u001b[39m\u001b[38;5;132;01m{f}\u001b[39;00m\u001b[38;5;124m of type \u001b[39m\u001b[38;5;132;01m{valt}\u001b[39;00m\u001b[38;5;124m \u001b[39m\u001b[38;5;124m\"\u001b[39m \u001b[38;5;124m\"\u001b[39m\u001b[38;5;124mdoes not match annotation type \u001b[39m\u001b[38;5;132;01m{t}\u001b[39;00m\u001b[38;5;124m\"\u001b[39m\n\u001b[1;32m--> 875\u001b[0m     \u001b[38;5;28;01mraise\u001b[39;00m EnsureError(msg\u001b[38;5;241m.\u001b[39mformat(f\u001b[38;5;241m=\u001b[39m\u001b[38;5;28mself\u001b[39m\u001b[38;5;241m.\u001b[39mf, t\u001b[38;5;241m=\u001b[39m\u001b[38;5;28mself\u001b[39m\u001b[38;5;241m.\u001b[39mreturn_templ, valt\u001b[38;5;241m=\u001b[39m\u001b[38;5;28mtype\u001b[39m(return_val)))\n\u001b[0;32m    876\u001b[0m \u001b[38;5;28;01mreturn\u001b[39;00m return_val\n",
      "\u001b[1;31mEnsureError\u001b[0m: Return value of <function fun at 0x000001E9C4829EE0> of type <class 'float'> does not match annotation type <class 'int'>"
     ]
    }
   ],
   "source": [
    "from ensure import ensure_annotations\n",
    "\n",
    "@ensure_annotations\n",
    "def fun(x: int, y: float) -> int:   # data validation\n",
    "    return x+y\n",
    "\n",
    "\n",
    "\n",
    "fun(x=20,y=20.5)"
   ]
  },
  {
   "cell_type": "code",
   "execution_count": null,
   "metadata": {},
   "outputs": [],
   "source": [
    "class a:\n",
    "    def __init__(self)  "
   ]
  },
  {
   "cell_type": "code",
   "execution_count": null,
   "metadata": {},
   "outputs": [],
   "source": []
  },
  {
   "cell_type": "code",
   "execution_count": null,
   "metadata": {},
   "outputs": [],
   "source": []
  },
  {
   "cell_type": "code",
   "execution_count": null,
   "metadata": {},
   "outputs": [],
   "source": []
  },
  {
   "cell_type": "code",
   "execution_count": null,
   "metadata": {},
   "outputs": [],
   "source": []
  },
  {
   "cell_type": "code",
   "execution_count": null,
   "metadata": {},
   "outputs": [],
   "source": []
  },
  {
   "cell_type": "code",
   "execution_count": 51,
   "metadata": {},
   "outputs": [
    {
     "name": "stdout",
     "output_type": "stream",
     "text": [
      "HARRY\n"
     ]
    },
    {
     "data": {
      "text/plain": [
       "45"
      ]
     },
     "execution_count": 51,
     "metadata": {},
     "output_type": "execute_result"
    }
   ],
   "source": [
    "class Father:\n",
    "    def __init__(self):\n",
    "        #instance variable\n",
    "        self.father_name = \"HARRY\"\n",
    "        self.age = 45\n",
    "\n",
    "        \n",
    "\n",
    "    # def father_hii(self):\n",
    "    #     print(self.father_name) \n",
    "father_obj=Father()\n",
    "print(father_obj.father_name)\n",
    "father_obj.age\n",
    " \n",
    "      "
   ]
  },
  {
   "cell_type": "code",
   "execution_count": null,
   "metadata": {},
   "outputs": [],
   "source": []
  },
  {
   "cell_type": "code",
   "execution_count": null,
   "metadata": {},
   "outputs": [],
   "source": []
  }
 ],
 "metadata": {
  "kernelspec": {
   "display_name": "Python 3",
   "language": "python",
   "name": "python3"
  },
  "language_info": {
   "codemirror_mode": {
    "name": "ipython",
    "version": 3
   },
   "file_extension": ".py",
   "mimetype": "text/x-python",
   "name": "python",
   "nbconvert_exporter": "python",
   "pygments_lexer": "ipython3",
   "version": "undefined.undefined.undefined"
  }
 },
 "nbformat": 4,
 "nbformat_minor": 2
}
