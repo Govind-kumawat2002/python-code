{
 "cells": [
  {
   "cell_type": "code",
   "execution_count": 2,
   "metadata": {},
   "outputs": [
    {
     "name": "stdout",
     "output_type": "stream",
     "text": [
      "Good\n"
     ]
    }
   ],
   "source": [
    "#If a student's score is above 90, print \"Excellent,\" else print \"Good.\"\n",
    "num = int(input(\"get marks: \"))\n",
    "(num /100) *100\n",
    "if num >90:\n",
    "    print(\"Excellent\")\n",
    "else:\n",
    "    print(\"Good\")\n",
    "        \n",
    "\n"
   ]
  },
  {
   "cell_type": "code",
   "execution_count": 5,
   "metadata": {},
   "outputs": [
    {
     "name": "stdout",
     "output_type": "stream",
     "text": [
      "number is postive\n"
     ]
    }
   ],
   "source": [
    "#Check if a number is positive, negative, or zero\n",
    "x = int(input(\"enter number: \"))\n",
    "if x == 0:\n",
    "     print(\"the number is 0: \")\n",
    "elif x>0:\n",
    "     print(\"number is postive\")\n",
    "else:\n",
    "    print(\"number is negative\")         \n"
   ]
  },
  {
   "cell_type": "code",
   "execution_count": 6,
   "metadata": {},
   "outputs": [
    {
     "ename": "NameError",
     "evalue": "name 'isPalindrome' is not defined",
     "output_type": "error",
     "traceback": [
      "\u001b[1;31m---------------------------------------------------------------------------\u001b[0m",
      "\u001b[1;31mNameError\u001b[0m                                 Traceback (most recent call last)",
      "Cell \u001b[1;32mIn[6], line 3\u001b[0m\n\u001b[0;32m      1\u001b[0m \u001b[38;5;66;03m#  Check if a given string is a# Driver code\u001b[39;00m\n\u001b[0;32m      2\u001b[0m s \u001b[38;5;241m=\u001b[39m \u001b[38;5;124m\"\u001b[39m\u001b[38;5;124mmalayalam\u001b[39m\u001b[38;5;124m\"\u001b[39m\n\u001b[1;32m----> 3\u001b[0m ans \u001b[38;5;241m=\u001b[39m \u001b[43misPalindrome\u001b[49m(s)\n\u001b[0;32m      5\u001b[0m \u001b[38;5;28;01mif\u001b[39;00m ans:\n\u001b[0;32m      6\u001b[0m     \u001b[38;5;28mprint\u001b[39m(\u001b[38;5;124m\"\u001b[39m\u001b[38;5;124mYes\u001b[39m\u001b[38;5;124m\"\u001b[39m)\n",
      "\u001b[1;31mNameError\u001b[0m: name 'isPalindrome' is not defined"
     ]
    }
   ],
   "source": [
    "#  Check if a given string is a# Driver code\n",
    "s = \"malayalam\"\n",
    "ans = isPalindrome(s)\n",
    " \n",
    "if ans:\n",
    "    print(\"Yes\")\n",
    "else:\n",
    "    print(\"No\")"
   ]
  },
  {
   "cell_type": "code",
   "execution_count": 9,
   "metadata": {},
   "outputs": [
    {
     "name": "stdout",
     "output_type": "stream",
     "text": [
      "Adult:\n"
     ]
    }
   ],
   "source": [
    "# If a person's age is above 18, print \"Adult,\" else print \"Minor.\"\n",
    "x = int(input(\"enter your age\"))\n",
    "if x>18:\n",
    "    print(\"Adult:\")\n",
    "else:\n",
    "    print(\"minor:\")    \n"
   ]
  },
  {
   "cell_type": "code",
   "execution_count": null,
   "metadata": {},
   "outputs": [],
   "source": [
    "# Determine the largest among three numbers.\n",
    "\n",
    "x = int(input(\"enter your number 1  \"))\n",
    "y = int(input(\"enter your number 2  \"))\n",
    "z = int(input(\"enter your number 3  \"))\n",
    "if x>y:\n",
    "    print\n",
    "\n"
   ]
  },
  {
   "cell_type": "code",
   "execution_count": 10,
   "metadata": {},
   "outputs": [
    {
     "name": "stdout",
     "output_type": "stream",
     "text": [
      "number is prime \n"
     ]
    }
   ],
   "source": [
    "# determine given number is prime number\n",
    "x = int(input(\"enter number \"))\n",
    "if x / 2==0:\n",
    "    print(\"number is prime \")\n",
    "else:\n",
    "    print(\"nome\")    \n"
   ]
  },
  {
   "cell_type": "code",
   "execution_count": null,
   "metadata": {},
   "outputs": [],
   "source": [
    "# check  if user input is divisible by 5 and 7\n",
    "x = int(input(\"enter number \"))\n",
    "if x / 5 == 0:\n",
    "    print(\"that is right \")\n",
    "elif x / 7==0:\n",
    "    print(\"that is not divisible by 5 : \")\n",
    "else: \n",
    "     print(\"that is right \")\n",
    "      \n",
    "\n",
    "        "
   ]
  },
  {
   "cell_type": "code",
   "execution_count": 11,
   "metadata": {},
   "outputs": [
    {
     "name": "stdout",
     "output_type": "stream",
     "text": [
      " not Eligiblity for voting :\n"
     ]
    }
   ],
   "source": [
    "# determine eligiblity for voting\n",
    "x = int(input(\"enter your age  \"))\n",
    "if x >18:\n",
    "    print(\"Eligiblity for voting :\")\n",
    "else:\n",
    "    print(\" not Eligiblity for voting :\")"
   ]
  },
  {
   "cell_type": "code",
   "execution_count": 13,
   "metadata": {},
   "outputs": [
    {
     "name": "stdout",
     "output_type": "stream",
     "text": [
      "Equilateral triangle\n"
     ]
    }
   ],
   "source": [
    "# determine types of tringle based on angle \n",
    "x = int(input(\"enter the angle 1 \"))\n",
    "y = int(input(\"enter the angle 2 \"))\n",
    "z = int(input(\"enter the angle 3 \"))\n",
    "if x==y==z:\n",
    "    print(\"Equilateral triangle\")\n",
    "elif y>z>x==90:\n",
    "    print(\"Right triangle\")\n",
    "else:\n",
    "    print(\"other tringle \")    \n"
   ]
  },
  {
   "cell_type": "code",
   "execution_count": 4,
   "metadata": {},
   "outputs": [
    {
     "name": "stdout",
     "output_type": "stream",
     "text": [
      "vowel\n"
     ]
    }
   ],
   "source": [
    "# Check if a character is a vowel or a consonant.\n",
    "x = 'a ', 'e' ,'i' ,'o','u'\n",
    "chr=(input(x))\n",
    "if x =='a'or  'e'or'i'or  'o'or'u':\n",
    "    print(\"vowel\")\n",
    "else:\n",
    "    print(\"constant\")\n"
   ]
  },
  {
   "cell_type": "code",
   "execution_count": 2,
   "metadata": {},
   "outputs": [
    {
     "name": "stdout",
     "output_type": "stream",
     "text": [
      "vowel\n"
     ]
    }
   ],
   "source": [
    "# Check if a character is a vowel or a consonant.\n",
    "x = 'a ', 'e' ,'i' ,'o','u'\n",
    "chr=(input(x))\n",
    "if x =='a'or  'e'or'i'or  'o'or'u':\n",
    "    print(\"vowel\")\n",
    "else:\n",
    "\n",
    "    print(\"constant\")\n"
   ]
  },
  {
   "cell_type": "code",
   "execution_count": 7,
   "metadata": {},
   "outputs": [
    {
     "name": "stdout",
     "output_type": "stream",
     "text": [
      "{year) is a leap year. \n"
     ]
    }
   ],
   "source": [
    "year = int(input(\"Enter a year: \")) \n",
    "if (year % 4 == 0 and year % 100 != 0) or (year % 400 == 0):\n",
    "     print(\"{year) is a leap year. \") \n",
    "else:\n",
    "     print(f\" (year) is not a leap year\")"
   ]
  },
  {
   "cell_type": "code",
   "execution_count": null,
   "metadata": {},
   "outputs": [],
   "source": [
    "# 1. Create a simple calculator program that performs addition, subtraction, multiplication, or division based on user input.\n",
    "# 2. Implement a program that checks if a triangle is equilateral, isosceles, or scalene based on its side lengths.\n",
    "# 3. Write a program to find the largest among three numbers entered by the user.\n"
   ]
  },
  {
   "cell_type": "code",
   "execution_count": 12,
   "metadata": {},
   "outputs": [
    {
     "name": "stdout",
     "output_type": "stream",
     "text": [
      "11\n"
     ]
    }
   ],
   "source": [
    "# 1. Create a simple calculator program that performs addition, subtraction, multiplication, or division based on user input.\n",
    "x = int(input(\"enter the number\"))\n",
    "\n",
    "y = int(input(\"enter the number2\"))\n",
    "z = input(\"Enter the type of operation you want to perform (+, -, *, /, %): \")\n",
    "# result = 0\n",
    "\n",
    "if z == \"*\":\n",
    "    print(x*y)\n",
    "elif z == \"+\":\n",
    "    print(x+y)\n",
    "elif z == \"/\":\n",
    "    print(x/y)\n",
    "elif z == \"-\":\n",
    "    print(x-y)    \n",
    "else:\n",
    "    print(\"byy\")       "
   ]
  },
  {
   "cell_type": "code",
   "execution_count": null,
   "metadata": {},
   "outputs": [],
   "source": []
  },
  {
   "cell_type": "code",
   "execution_count": null,
   "metadata": {},
   "outputs": [],
   "source": []
  }
 ],
 "metadata": {
  "kernelspec": {
   "display_name": "Python 3",
   "language": "python",
   "name": "python3"
  },
  "language_info": {
   "codemirror_mode": {
    "name": "ipython",
    "version": 3
   },
   "file_extension": ".py",
   "mimetype": "text/x-python",
   "name": "python",
   "nbconvert_exporter": "python",
   "pygments_lexer": "ipython3",
   "version": "3.12.2"
  }
 },
 "nbformat": 4,
 "nbformat_minor": 2
}
