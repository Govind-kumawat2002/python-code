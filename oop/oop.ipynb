{
 "cells": [
  {
   "cell_type": "code",
   "execution_count": 1,
   "metadata": {},
   "outputs": [
    {
     "data": {
      "text/plain": [
       "[25, 14, 85]"
      ]
     },
     "execution_count": 1,
     "metadata": {},
     "output_type": "execute_result"
    }
   ],
   "source": [
    "# proper way coding\n",
    "\n",
    "\n",
    "a = [25,14,85]\n",
    "a "
   ]
  },
  {
   "cell_type": "code",
   "execution_count": 16,
   "metadata": {},
   "outputs": [
    {
     "name": "stdout",
     "output_type": "stream",
     "text": [
      "python\n",
      "eleaphant\n"
     ]
    }
   ],
   "source": [
    "# class = blueprint \n",
    "\n",
    "class  Animal:\n",
    "\n",
    "    # class variable \n",
    "    name = 'eleaphant'\n",
    "    weight = 2000 \n",
    "    age = 25\n",
    "\n",
    "    # function vs method \n",
    "    def display(self):\n",
    "        print(self.weight)\n",
    "\n",
    "\n",
    "\n",
    "\n",
    "\n",
    "animal_objects1 = Animal()\n",
    "animal_objects2 = Animal()\n",
    "\n",
    "\n",
    "animal_objects1.name = \"python\"\n",
    "print(animal_objects1.name)\n",
    "\n",
    "print(animal_objects2.name)"
   ]
  },
  {
   "cell_type": "code",
   "execution_count": 40,
   "metadata": {},
   "outputs": [
    {
     "name": "stdout",
     "output_type": "stream",
     "text": [
      "100\n",
      "85\n"
     ]
    }
   ],
   "source": [
    "class  Animal:\n",
    "    # class variable \n",
    "    num1 = 100\n",
    "    num2 = 200\n",
    "\n",
    "    def __init__(self,name,weigh,age):    # constructor\n",
    "        # instance variable\n",
    "        self.animal_name = name\n",
    "        self.animal_weight = weigh\n",
    "        self.animal_age = age\n",
    "\n",
    "\n",
    "    # function vs method \n",
    "    def display(self):\n",
    "        print(self.animal_weight)   # obj.animal_weight\n",
    "\n",
    "obj1 = Animal(name='tiger',weigh=42,age=21)\n",
    "# print(obj1.animal_name)\n",
    "\n",
    "obj2 = Animal('lion',85,42)\n",
    "# print(obj2.animal_name)\n",
    "\n",
    "\n",
    "obj1.animal_weight = 100\n",
    "obj1.display()\n",
    "\n",
    "obj2.\n",
    "obj1.\n",
    "\n",
    "\n"
   ]
  },
  {
   "cell_type": "code",
   "execution_count": 60,
   "metadata": {},
   "outputs": [
    {
     "name": "stdout",
     "output_type": "stream",
     "text": [
      "hii i am instance\n",
      "hii i am static\n"
     ]
    }
   ],
   "source": [
    "class  Animal:\n",
    "    # class variable \n",
    "    num1 = 100\n",
    "    num2 = 200\n",
    "\n",
    "    def __init__(self,name,weigh,age):    # constructor\n",
    "        # instance variable\n",
    "        self.animal_name = name\n",
    "        self.animal_weight = weigh\n",
    "        self.animal_age = age\n",
    "\n",
    "\n",
    "    # function vs method \n",
    "    # instance method  \n",
    "    # class method   <---\n",
    "    # static method \n",
    "        \n",
    "    # instance method \n",
    "    def display(self):\n",
    "        print(self.animal_weight)   # obj.animal_weight\n",
    "\n",
    "\n",
    "\n",
    "    @classmethod    #  decorator \n",
    "    def class_method(cls):\n",
    "        print(cls.num1)\n",
    "        print(cls.num2)\n",
    "\n",
    "    @staticmethod\n",
    "    def hello():\n",
    "        print('hii i am static')\n",
    "\n",
    "\n",
    "        \n",
    "\n",
    "    def hiii(self):\n",
    "        print('hii i am instance')\n",
    "        self.hello()\n",
    "    \n",
    "obj1 = Animal(name='tiger',weigh=42,age=21)\n",
    "\n",
    "# obj1.display()\n",
    "# Animal.class_method()\n",
    "# Animal.display()\n",
    "\n",
    "# Animal.hello()\n",
    "# obj1.hello()\n",
    "obj1.hiii()\n"
   ]
  },
  {
   "cell_type": "code",
   "execution_count": 61,
   "metadata": {},
   "outputs": [],
   "source": [
    "class Prectise:\n",
    "    lst  = [25,14,85,12,52,36,25] \n"
   ]
  }
 ],
 "metadata": {
  "kernelspec": {
   "display_name": "Python 3",
   "language": "python",
   "name": "python3"
  },
  "language_info": {
   "codemirror_mode": {
    "name": "ipython",
    "version": 3
   },
   "file_extension": ".py",
   "mimetype": "text/x-python",
   "name": "python",
   "nbconvert_exporter": "python",
   "pygments_lexer": "ipython3",
   "version": "3.11.3"
  }
 },
 "nbformat": 4,
 "nbformat_minor": 2
}
