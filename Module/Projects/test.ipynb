{
 "cells": [
  {
   "cell_type": "code",
   "execution_count": 29,
   "metadata": {},
   "outputs": [
    {
     "name": "stdout",
     "output_type": "stream",
     "text": [
      "csv\n",
      "E:\\Game\\csv_folder\\data.csv\n",
      "E:\\Game\\mje\\data.csv\n",
      "txt\n",
      "E:\\Game\\txt_folder\\hello.txt\n",
      "E:\\Game\\mje\\hello.txt\n",
      "png\n",
      "E:\\Game\\img_folder\\shiv.png\n",
      "E:\\Game\\mje\\shiv.png\n",
      "png\n",
      "E:\\Game\\img_folder\\shivji.png\n",
      "E:\\Game\\mje\\shivji.png\n",
      "jpg\n",
      "E:\\Game\\img_folder\\shivshankar.jpg\n",
      "E:\\Game\\mje\\shivshankar.jpg\n",
      "pdf\n",
      "E:\\Game\\pdf_folder\\shivvji.pdf\n",
      "E:\\Game\\mje\\shivvji.pdf\n"
     ]
    },
    {
     "name": "stderr",
     "output_type": "stream",
     "text": [
      "<>:3: SyntaxWarning: invalid escape sequence '\\G'\n",
      "<>:3: SyntaxWarning: invalid escape sequence '\\G'\n",
      "C:\\Users\\kumaw\\AppData\\Local\\Temp\\ipykernel_13444\\1313617984.py:3: SyntaxWarning: invalid escape sequence '\\G'\n",
      "  source_folder=\"E:\\Game\\mje\"\n"
     ]
    }
   ],
   "source": [
    "import os \n",
    "import shutil\n",
    "source_folder=\"E:\\Game\\mje\"\n",
    "base_path =\"E:\\\\Game\\\\\"\n",
    "lst = os.listdir(source_folder) #list of item\n",
    "curent_directory = os.getcwd() # path consider \n",
    "# print(curent_directory)\n",
    "temp = []\n",
    "for item in lst:\n",
    "    complete_path = os.path.join(source_folder,item)\n",
    "    temp.append(complete_path)\n",
    "temp2 = ['jpg','png',]\n",
    "temp3 = ['pdf']\n",
    "temp4 = ['csv']\n",
    "temp5 = ['txt']\n",
    "for i, item  in  enumerate(temp):\n",
    "    path_with_extension = item.split('.')\n",
    "    # print(path_with_extension)1\n",
    "\n",
    "    print(path_with_extension[1])\n",
    "    if path_with_extension[1] in temp2:\n",
    "        os.makedirs('img_folder',exist_ok=True)\n",
    "        destination_path = os.path.join(base_path,'img_folder',lst[i])\n",
    "        print(destination_path)\n",
    "      \n",
    "        print(item)\n",
    "        shutil.copy(item,destination_path)\n",
    "\n",
    "    elif path_with_extension[1] in temp5:\n",
    "        os.makedirs('txt_folder',exist_ok=True)\n",
    "        destination_path = os.path.join(base_path,'txt_folder',lst[i])\n",
    "        print(destination_path)\n",
    "        # print()\n",
    "        print(item)\n",
    "        shutil.copy(item,destination_path) \n",
    "    elif path_with_extension[1] in temp3:\n",
    "        os.makedirs('pdf_folder',exist_ok=True)\n",
    "        destination_path = os.path.join(base_path,'pdf_folder',lst[i])\n",
    "        print(destination_path)\n",
    "        # print()\n",
    "        print(item)\n",
    "        shutil.copy(item,destination_path)\n",
    "    elif path_with_extension[1] in temp4:\n",
    "        os.makedirs('csv_folder',exist_ok=True)\n",
    "        destination_path = os.path.join(base_path,'csv_folder',lst[i])\n",
    "        print(destination_path)\n",
    "        # print()\n",
    "        print(item)\n",
    "        shutil.copy(item,destination_path)     \n",
    "                                                           \n",
    "    else:\n",
    "        print(\"JAI SHREE RAM\")\n",
    "\n"
   ]
  }
 ],
 "metadata": {
  "kernelspec": {
   "display_name": "Python 3",
   "language": "python",
   "name": "python3"
  },
  "language_info": {
   "codemirror_mode": {
    "name": "ipython",
    "version": 3
   },
   "file_extension": ".py",
   "mimetype": "text/x-python",
   "name": "python",
   "nbconvert_exporter": "python",
   "pygments_lexer": "ipython3",
   "version": "3.12.2"
  }
 },
 "nbformat": 4,
 "nbformat_minor": 2
}
