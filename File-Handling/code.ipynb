{
 "cells": [
  {
   "cell_type": "code",
   "execution_count": null,
   "metadata": {},
   "outputs": [],
   "source": [
    "import os \n",
    "import shutil\n",
    "source_folder=\"E:\\Game\\upflairs.txt\"\n",
    "base_path =\"E:\\\\Game\\\\\"\n",
    "lst = os.listdir(source_folder) #list of item\n",
    "curent_directory = os.getcwd() # path consider \n",
    "# print(curent_directory)\n",
    "temp = []\n",
    "for item in lst:\n",
    "    complete_path = os.path.join(source_folder,item)\n",
    "    temp.append(complete_path)\n",
    "    temp2 = [source_folder]\n",
    "    for i, item  in  enumerate(temp):\n",
    "    \n",
    "    path_with_extension = item.split(':')\n",
    "\n",
    "    print(path_with_extension[1])\n",
    "    if path_with_extension[1] in temp2:\n",
    "        print(open('upflairs.txt','r').read())\n",
    "\n",
    "        # os.makedirs('_folder',exist_ok=True)\n",
    "        # destination_path = os.path.join(base_path,'img_folder',lst[i])\n",
    "        # print(destination_path)\n",
    "      \n",
    "        # print(item)\n",
    "        shutil.copy(item,destination_path)\n",
    "\n",
    "\n"
   ]
  },
  {
   "cell_type": "code",
   "execution_count": 7,
   "metadata": {},
   "outputs": [
    {
     "name": "stdout",
     "output_type": "stream",
     "text": [
      " Jay shri ram   jay bajrang bali \n",
      "\n",
      " Jay shri ram   jay bajrang bali\n",
      "\n",
      " Jay shri ram   jay bajrang bali\n",
      "\n",
      " Jay shri ram   jay bajrang bali\n",
      "\n",
      " Jay shri ram   jay bajrang bali\n",
      "\n",
      " Jay shri ram   jay bajrang bali\n",
      "\n",
      " Jay shri ram   jay bajrang bali\n",
      "\n",
      " Jay shri ram   jay bajrang bali\n",
      "\n",
      " Jay shri ram   jay bajrang bali\n",
      "\n",
      " Jay shri ram   jay bajrang bali\n",
      "\n",
      " Jay shri ram   jay bajrang bali\n",
      "\n",
      " Jay shri ram   jay bajrang bali\n",
      "\n",
      " Jay shri ram   jay bajrang bali\n",
      "\n",
      " Jay shri ram   jay bajrang bali\n",
      "\n",
      " Jay shri ram   jay bajrang bali\n",
      "\n",
      " Jay shri ram   jay bajrang bali\n",
      "\n",
      " Jay shri ram   jay bajrang bali\n",
      "\n",
      " Jay shri ram   jay bajrang bali\n",
      "\n",
      " Jay shri ram   jay bajrang bali\n"
     ]
    }
   ],
   "source": [
    "with open('upflairs.txt','r') as file:\n",
    "    data = file.readlines()\n",
    "    for i in data:\n",
    "        ram, hanuman = i.split(':')\n",
    "        print(ram,hanuman)\n",
    "        with open('ramji.txt','a+') as file1:\n",
    "            file1.write(ram)\n",
    "\n",
    "        with open('hanumanji.txt','a+') as file2:\n",
    "            file2.write(hanuman)\n"
   ]
  },
  {
   "cell_type": "code",
   "execution_count": null,
   "metadata": {},
   "outputs": [],
   "source": []
  }
 ],
 "metadata": {
  "kernelspec": {
   "display_name": "Python 3",
   "language": "python",
   "name": "python3"
  },
  "language_info": {
   "codemirror_mode": {
    "name": "ipython",
    "version": 3
   },
   "file_extension": ".py",
   "mimetype": "text/x-python",
   "name": "python",
   "nbconvert_exporter": "python",
   "pygments_lexer": "ipython3",
   "version": "3.12.2"
  }
 },
 "nbformat": 4,
 "nbformat_minor": 2
}
