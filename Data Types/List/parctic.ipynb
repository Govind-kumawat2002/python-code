{
 "cells": [
  {
   "cell_type": "code",
   "execution_count": 16,
   "metadata": {},
   "outputs": [
    {
     "name": "stdout",
     "output_type": "stream",
     "text": [
      "[1, 3, 5, 7, 9]\n"
     ]
    }
   ],
   "source": [
    "# '''Q-1. What will be the output of the following Python code?\n",
    "a=[1,2,3,4,5,6,7,8,9]\n",
    "print(a[::2])\n",
    "# list === refrential array"
   ]
  },
  {
   "cell_type": "code",
   "execution_count": 8,
   "metadata": {},
   "outputs": [
    {
     "name": "stdout",
     "output_type": "stream",
     "text": [
      "total multiple item in list 4\n"
     ]
    }
   ],
   "source": [
    "# Write a Python program to Multiply all numbers in the list?\n",
    "x = [1,4]\n",
    "result =1\n",
    "for item in x:\n",
    "        result*= item\n",
    "print(\"total multiple item in list\",result)\n",
    "\n",
    "\n",
    "# esme to function used hoga"
   ]
  },
  {
   "cell_type": "code",
   "execution_count": 9,
   "metadata": {},
   "outputs": [
    {
     "data": {
      "text/plain": [
       "1"
      ]
     },
     "execution_count": 9,
     "metadata": {},
     "output_type": "execute_result"
    }
   ],
   "source": [
    "# Write a Python program to find smallest number in a list?\n",
    "x = [1,2,3]\n",
    "min(x)\n",
    "\n",
    "\n"
   ]
  },
  {
   "cell_type": "code",
   "execution_count": 10,
   "metadata": {},
   "outputs": [
    {
     "data": {
      "text/plain": [
       "3"
      ]
     },
     "execution_count": 10,
     "metadata": {},
     "output_type": "execute_result"
    }
   ],
   "source": [
    "# Write a Python program to find largest number in a list?\n",
    "x  = [1,2,3]\n",
    "max(x)\n"
   ]
  },
  {
   "cell_type": "code",
   "execution_count": 15,
   "metadata": {},
   "outputs": [
    {
     "name": "stdout",
     "output_type": "stream",
     "text": [
      "second largest number in list 0\n"
     ]
    }
   ],
   "source": [
    "\n",
    "# Write a Python program to find second largest number in a list?\n",
    "x  = [1,2,3]\n",
    "output=0\n",
    "for item in x:\n",
    "    output>=1 ==item \n",
    "    print(\"second largest number in list\", output)\n",
    "    break"
   ]
  },
  {
   "cell_type": "code",
   "execution_count": 17,
   "metadata": {},
   "outputs": [
    {
     "ename": "AttributeError",
     "evalue": "'list' object has no attribute 'nlargest'",
     "output_type": "error",
     "traceback": [
      "\u001b[1;31m---------------------------------------------------------------------------\u001b[0m",
      "\u001b[1;31mAttributeError\u001b[0m                            Traceback (most recent call last)",
      "Cell \u001b[1;32mIn[17], line 3\u001b[0m\n\u001b[0;32m      1\u001b[0m \u001b[38;5;66;03m# Write a Python program to find N largest elements from a list?\u001b[39;00m\n\u001b[0;32m      2\u001b[0m x  \u001b[38;5;241m=\u001b[39m [\u001b[38;5;241m1\u001b[39m,\u001b[38;5;241m2\u001b[39m,\u001b[38;5;241m5\u001b[39m,\u001b[38;5;241m9\u001b[39m,\u001b[38;5;241m3\u001b[39m]\n\u001b[1;32m----> 3\u001b[0m \u001b[43mx\u001b[49m\u001b[38;5;241;43m.\u001b[39;49m\u001b[43mnlargest\u001b[49m()\n",
      "\u001b[1;31mAttributeError\u001b[0m: 'list' object has no attribute 'nlargest'"
     ]
    }
   ],
   "source": [
    "# Write a Python program to find N largest elements from a list?\n",
    "x  = [1,2,5,9,3]\n",
    "x.nlargest()"
   ]
  },
  {
   "cell_type": "code",
   "execution_count": 25,
   "metadata": {},
   "outputs": [
    {
     "name": "stdout",
     "output_type": "stream",
     "text": [
      "that is odd\n"
     ]
    }
   ],
   "source": [
    "#Write a Python program to print odd numbers in a List?\n",
    "# x  = [1,2,3] #loop \n",
    "#Write a Python program to print even numbers in a list?\n",
    "x  = [1,2,3,1,2,3,1,2,3,46]\n",
    "item ==0\n",
    "if item%2!=0:\n",
    "    print(\"that is odd\",item)\n",
    "else:\n",
    "    print(\"that is odd\")    \n",
    "# for item in x:\n",
    "#     item%2==0\n",
    "#     print(\"that is even number in list\",item)"
   ]
  },
  {
   "cell_type": "code",
   "execution_count": null,
   "metadata": {},
   "outputs": [],
   "source": [
    "# \n"
   ]
  },
  {
   "cell_type": "code",
   "execution_count": 32,
   "metadata": {},
   "outputs": [
    {
     "name": "stdout",
     "output_type": "stream",
     "text": [
      "List after removing empty lists: [[12, 44]]\n",
      "List after removing empty lists: [[12, 44], [55, 88]]\n"
     ]
    }
   ],
   "source": [
    "# Write a Python program to Remove empty List from List\n",
    "\n",
    "lit=  [[12,44],[55,88],[],[]]\n",
    "non_empty_list =[]\n",
    "for item in lit:\n",
    "    if item :\n",
    "        non_empty_list.append(item)\n",
    "        print(\"List after removing empty lists:\",non_empty_list)"
   ]
  },
  {
   "cell_type": "code",
   "execution_count": 30,
   "metadata": {},
   "outputs": [
    {
     "name": "stdout",
     "output_type": "stream",
     "text": [
      "List after removing empty lists: [[1, 2], [3, 4], [5, 6]]\n"
     ]
    }
   ],
   "source": [
    "# Example list containing empty lists\n",
    "my_list = [[1, 2], [], [3, 4], [], [], [5, 6], []]\n",
    "\n",
    "# Create a new list to store non-empty lists\n",
    "non_empty_list = []\n",
    "\n",
    "# Iterate through each sublist in the original list\n",
    "for sublist in my_list:\n",
    "    # Check if the sublist is not empty\n",
    "    if sublist:\n",
    "        # If not empty, add it to the new list\n",
    "        non_empty_list.append(sublist)\n",
    "\n",
    "# Print the updated list\n",
    "print(\"List after removing empty lists:\", non_empty_list)\n"
   ]
  },
  {
   "cell_type": "code",
   "execution_count": 47,
   "metadata": {},
   "outputs": [
    {
     "ename": "TypeError",
     "evalue": "list.count() takes exactly one argument (0 given)",
     "output_type": "error",
     "traceback": [
      "\u001b[1;31m---------------------------------------------------------------------------\u001b[0m",
      "\u001b[1;31mTypeError\u001b[0m                                 Traceback (most recent call last)",
      "Cell \u001b[1;32mIn[47], line 3\u001b[0m\n\u001b[0;32m      1\u001b[0m \u001b[38;5;66;03m#Write a Python program to Count occurrences of an element in a list?\u001b[39;00m\n\u001b[0;32m      2\u001b[0m x  \u001b[38;5;241m=\u001b[39m [\u001b[38;5;241m1\u001b[39m,\u001b[38;5;241m2\u001b[39m,\u001b[38;5;241m3\u001b[39m,\u001b[38;5;241m4\u001b[39m,\u001b[38;5;241m88\u001b[39m]\n\u001b[1;32m----> 3\u001b[0m \u001b[43mx\u001b[49m\u001b[38;5;241;43m.\u001b[39;49m\u001b[43mcount\u001b[49m\u001b[43m(\u001b[49m\u001b[43m)\u001b[49m\n",
      "\u001b[1;31mTypeError\u001b[0m: list.count() takes exactly one argument (0 given)"
     ]
    }
   ],
   "source": [
    "#Write a Python program to Count occurrences of an element in a list?\n",
    "x  = [1,2,3,4,88,4,2,2,6,8]\n",
    "# occurrence_number=2\n",
    "# heloo = occurrence_number.count\n",
    "\n",
    "\n"
   ]
  },
  {
   "cell_type": "markdown",
   "metadata": {},
   "source": [
    " Write a Python program to find words which are greater than given length k?\n",
    "Q12. Write a Python program for removing i-th character from a string?\n",
    "Q13. Write a Python program to split and join a string?\n",
    "Q14. Write a Python to check if a given string is binary string or not?\n",
    "Q15. Write a Python program to find uncommon words from two Strings?"
   ]
  },
  {
   "cell_type": "markdown",
   "metadata": {},
   "source": []
  },
  {
   "cell_type": "code",
   "execution_count": 36,
   "metadata": {},
   "outputs": [
    {
     "name": "stdout",
     "output_type": "stream",
     "text": [
      "element hello\n",
      "element hiii\n"
     ]
    }
   ],
   "source": [
    "# Write a Python program for removing i-th character from a string?\n",
    "list = [\"hello\",\"hiii\",\"byyy\"]\n",
    "for item in range( len(list)-1):\n",
    "\n",
    "        print('element',list[item])\n",
    "\n"
   ]
  },
  {
   "cell_type": "code",
   "execution_count": 49,
   "metadata": {},
   "outputs": [
    {
     "name": "stdout",
     "output_type": "stream",
     "text": [
      "['hello', 'hiii', 'byyy', 'hello', 'hiii', 'byyy']\n"
     ]
    },
    {
     "ename": "TypeError",
     "evalue": "'list' object is not callable",
     "output_type": "error",
     "traceback": [
      "\u001b[1;31m---------------------------------------------------------------------------\u001b[0m",
      "\u001b[1;31mTypeError\u001b[0m                                 Traceback (most recent call last)",
      "Cell \u001b[1;32mIn[49], line 7\u001b[0m\n\u001b[0;32m      5\u001b[0m \u001b[38;5;28mprint\u001b[39m(\u001b[38;5;28mlist\u001b[39m\u001b[38;5;241m+\u001b[39mlist2)\n\u001b[0;32m      6\u001b[0m \u001b[38;5;66;03m#split\u001b[39;00m\n\u001b[1;32m----> 7\u001b[0m \u001b[43mlist2\u001b[49m\u001b[43m(\u001b[49m\u001b[38;5;28;43mlist\u001b[39;49m\u001b[43m[\u001b[49m\u001b[38;5;241;43m1\u001b[39;49m\u001b[43m:\u001b[49m\u001b[38;5;241;43m2\u001b[39;49m\u001b[43m]\u001b[49m\u001b[43m)\u001b[49m\n",
      "\u001b[1;31mTypeError\u001b[0m: 'list' object is not callable"
     ]
    }
   ],
   "source": [
    "# Write a Python program to split and join a string?\n",
    "#join \n",
    "list = [\"hello\",\"hiii\",\"byyy\"]\n",
    "list2 = [\"hello\",\"hiii\",\"byyy\"]\n",
    "print(list+list2)\n",
    "#split\n",
    "list2(list[1:2])\n"
   ]
  },
  {
   "cell_type": "code",
   "execution_count": 37,
   "metadata": {},
   "outputs": [
    {
     "name": "stdout",
     "output_type": "stream",
     "text": [
      "False\n"
     ]
    }
   ],
   "source": [
    "# Write a Python to check if a given string is binary string or n\n",
    "x= 8\n",
    "y=12\n",
    "print(x==y)\n"
   ]
  },
  {
   "cell_type": "code",
   "execution_count": 38,
   "metadata": {},
   "outputs": [
    {
     "ename": "AttributeError",
     "evalue": "'tuple' object has no attribute 'remove'",
     "output_type": "error",
     "traceback": [
      "\u001b[1;31m---------------------------------------------------------------------------\u001b[0m",
      "\u001b[1;31mAttributeError\u001b[0m                            Traceback (most recent call last)",
      "Cell \u001b[1;32mIn[38], line 4\u001b[0m\n\u001b[0;32m      1\u001b[0m \u001b[38;5;66;03m# Write a Python program to find uncommon words from two Strings? by hashing \u001b[39;00m\n\u001b[0;32m      3\u001b[0m x \u001b[38;5;241m=\u001b[39m\u001b[38;5;124m'\u001b[39m\u001b[38;5;124mhello \u001b[39m\u001b[38;5;124m'\u001b[39m, \u001b[38;5;124m'\u001b[39m\u001b[38;5;124mhii\u001b[39m\u001b[38;5;124m'\u001b[39m,\u001b[38;5;124m'\u001b[39m\u001b[38;5;124mbyy\u001b[39m\u001b[38;5;124m'\u001b[39m\n\u001b[1;32m----> 4\u001b[0m \u001b[43mx\u001b[49m\u001b[38;5;241;43m.\u001b[39;49m\u001b[43mremove\u001b[49m(\u001b[38;5;124m'\u001b[39m\u001b[38;5;124mhello\u001b[39m\u001b[38;5;124m'\u001b[39m)\n",
      "\u001b[1;31mAttributeError\u001b[0m: 'tuple' object has no attribute 'remove'"
     ]
    }
   ],
   "source": [
    "# Write a Python program to find uncommon words from two Strings? by hashing \n",
    "\n"
   ]
  },
  {
   "cell_type": "code",
   "execution_count": 18,
   "metadata": {},
   "outputs": [
    {
     "name": "stdout",
     "output_type": "stream",
     "text": [
      "Second largest number in the list: 30\n"
     ]
    }
   ],
   "source": [
    "# Example list\n",
    "my_list = [10, 5, 20, 15, 30]\n",
    "\n",
    "# Initialize variables to store maximum and second maximum numbers\n",
    "max_num = float('-inf')\n",
    "largest_max = float('-inf')\n",
    "\n",
    "# Iterate through the list to find maximum and second maximum\n",
    "for num in my_list:\n",
    "    if num == max_num:\n",
    "        largest_max = max_num\n",
    "        latgest_num = num\n",
    "    elif num > largest_max and num != max_num:\n",
    "        largest_max = num\n",
    "\n",
    "# Print the second largest number\n",
    "print(\"Second largest number in the list:\", largest_max)\n"
   ]
  },
  {
   "cell_type": "code",
   "execution_count": null,
   "metadata": {},
   "outputs": [],
   "source": []
  }
 ],
 "metadata": {
  "kernelspec": {
   "display_name": "Python 3",
   "language": "python",
   "name": "python3"
  },
  "language_info": {
   "codemirror_mode": {
    "name": "ipython",
    "version": 3
   },
   "file_extension": ".py",
   "mimetype": "text/x-python",
   "name": "python",
   "nbconvert_exporter": "python",
   "pygments_lexer": "ipython3",
   "version": "3.11.3"
  }
 },
 "nbformat": 4,
 "nbformat_minor": 2
}
