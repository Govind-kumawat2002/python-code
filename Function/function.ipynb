{
 "cells": [
  {
   "cell_type": "code",
   "execution_count": 19,
   "metadata": {},
   "outputs": [
    {
     "name": "stdout",
     "output_type": "stream",
     "text": [
      "40\n"
     ]
    }
   ],
   "source": [
    "def even(lst):\n",
    "     temp = 0\n",
    "     for a in lst:\n",
    "        if a %2 == 0:\n",
    "         temp= temp+a*a ##**2 for squre \n",
    "     return temp     \n",
    "     \n",
    "      \n",
    "b = even([1,2,3,6,5,89])\n",
    "print(b)    "
   ]
  },
  {
   "cell_type": "code",
   "execution_count": 32,
   "metadata": {},
   "outputs": [
    {
     "name": "stdout",
     "output_type": "stream",
     "text": [
      "not present\n",
      "not present\n",
      "not present\n",
      "not present\n",
      "not present\n",
      "not present\n"
     ]
    }
   ],
   "source": [
    "temp = 0\n",
    "def value(lst,num):\n",
    "    for item in enumerate(lst):\n",
    "        if item==num:\n",
    "            print(\"present\",temp)\n",
    "            print(item)\n",
    "        else:\n",
    "            print(\"not present\")    \n",
    "\n",
    "\n",
    "value([1,2,3,6,5,89],3)    "
   ]
  },
  {
   "cell_type": "code",
   "execution_count": 2,
   "metadata": {},
   "outputs": [
    {
     "data": {
      "text/plain": [
       "['pass', 'pass', 'pass', 'fail', 'pass', 'fail']"
      ]
     },
     "execution_count": 2,
     "metadata": {},
     "output_type": "execute_result"
    }
   ],
   "source": [
    "x =[1,2,3,6,5,89]\n",
    "lst = [\"fail\" if y>5 else \"pass\" for y in x  ]\n",
    "lst"
   ]
  },
  {
   "cell_type": "code",
   "execution_count": null,
   "metadata": {},
   "outputs": [],
   "source": []
  }
 ],
 "metadata": {
  "kernelspec": {
   "display_name": "Python 3",
   "language": "python",
   "name": "python3"
  },
  "language_info": {
   "codemirror_mode": {
    "name": "ipython",
    "version": 3
   },
   "file_extension": ".py",
   "mimetype": "text/x-python",
   "name": "python",
   "nbconvert_exporter": "python",
   "pygments_lexer": "ipython3",
   "version": "3.11.3"
  }
 },
 "nbformat": 4,
 "nbformat_minor": 2
}
